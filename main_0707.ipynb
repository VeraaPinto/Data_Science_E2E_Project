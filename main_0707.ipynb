{
 "cells": [
  {
   "cell_type": "markdown",
   "id": "849cd9b1-bfa1-4d62-b8b3-fe714f66da56",
   "metadata": {},
   "source": [
    "# Import Libraries"
   ]
  },
  {
   "cell_type": "code",
   "execution_count": 2,
   "id": "b2a555bc-2bf7-4b7c-b246-78e188bf3510",
   "metadata": {},
   "outputs": [],
   "source": [
    "#import libraries\n",
    "import pandas as pd\n",
    "import matplotlib.pyplot as plt\n",
    "import seaborn as sns\n",
    "import xgboost as xgb\n",
    "import numpy as np\n",
    "from sklearn.model_selection import train_test_split\n",
    "from sklearn.neighbors import KNeighborsRegressor\n",
    "from sklearn.preprocessing import LabelEncoder\n",
    "from sklearn.tree import DecisionTreeRegressor\n",
    "from sklearn.ensemble import BaggingRegressor, RandomForestRegressor,AdaBoostRegressor, GradientBoostingRegressor\n",
    "from sklearn.preprocessing import MinMaxScaler, StandardScaler\n",
    "from sklearn.metrics import r2_score, mean_absolute_error, root_mean_squared_error, make_scorer, mean_squared_error\n",
    "from sklearn.datasets import make_regression\n",
    "from sklearn.linear_model import LinearRegression\n",
    "from sklearn.model_selection import GridSearchCV\n",
    "from sklearn.model_selection import RandomizedSearchCV\n",
    "from sklearn.model_selection import cross_val_score, KFold\n",
    "from scipy.stats import randint, uniform"
   ]
  },
  {
   "cell_type": "code",
   "execution_count": 3,
   "id": "3add0b95-24dc-4c25-a43b-f1a9caab17d3",
   "metadata": {},
   "outputs": [
    {
     "data": {
      "text/html": [
       "<div>\n",
       "<style scoped>\n",
       "    .dataframe tbody tr th:only-of-type {\n",
       "        vertical-align: middle;\n",
       "    }\n",
       "\n",
       "    .dataframe tbody tr th {\n",
       "        vertical-align: top;\n",
       "    }\n",
       "\n",
       "    .dataframe thead th {\n",
       "        text-align: right;\n",
       "    }\n",
       "</style>\n",
       "<table border=\"1\" class=\"dataframe\">\n",
       "  <thead>\n",
       "    <tr style=\"text-align: right;\">\n",
       "      <th></th>\n",
       "      <th>Month-Year</th>\n",
       "      <th>PRODUCT_FAMILY</th>\n",
       "      <th>GMID</th>\n",
       "      <th>LOC</th>\n",
       "      <th>Country</th>\n",
       "      <th>Sales</th>\n",
       "      <th>Forecast</th>\n",
       "      <th>MAPE</th>\n",
       "      <th>MAPE_Impact</th>\n",
       "      <th>MAPE_Contribution</th>\n",
       "      <th>Absolute Error</th>\n",
       "      <th>Non Absolute Error</th>\n",
       "    </tr>\n",
       "  </thead>\n",
       "  <tbody>\n",
       "    <tr>\n",
       "      <th>0</th>\n",
       "      <td>23-Jul</td>\n",
       "      <td>6</td>\n",
       "      <td>600001</td>\n",
       "      <td>KR001</td>\n",
       "      <td>KR</td>\n",
       "      <td>909</td>\n",
       "      <td>868.279179</td>\n",
       "      <td>4.50%</td>\n",
       "      <td>0.00%</td>\n",
       "      <td>0.00%</td>\n",
       "      <td>40.720821</td>\n",
       "      <td>-40.720821</td>\n",
       "    </tr>\n",
       "    <tr>\n",
       "      <th>1</th>\n",
       "      <td>23-Aug</td>\n",
       "      <td>6</td>\n",
       "      <td>600001</td>\n",
       "      <td>KR001</td>\n",
       "      <td>KR</td>\n",
       "      <td>786</td>\n",
       "      <td>867.675973</td>\n",
       "      <td>10.40%</td>\n",
       "      <td>0.01%</td>\n",
       "      <td>0.00%</td>\n",
       "      <td>81.675973</td>\n",
       "      <td>81.675973</td>\n",
       "    </tr>\n",
       "    <tr>\n",
       "      <th>2</th>\n",
       "      <td>23-Sep</td>\n",
       "      <td>6</td>\n",
       "      <td>600001</td>\n",
       "      <td>KR001</td>\n",
       "      <td>KR</td>\n",
       "      <td>846</td>\n",
       "      <td>906.330589</td>\n",
       "      <td>7.10%</td>\n",
       "      <td>0.01%</td>\n",
       "      <td>0.00%</td>\n",
       "      <td>60.330590</td>\n",
       "      <td>60.330590</td>\n",
       "    </tr>\n",
       "    <tr>\n",
       "      <th>3</th>\n",
       "      <td>23-Oct</td>\n",
       "      <td>6</td>\n",
       "      <td>600001</td>\n",
       "      <td>KR001</td>\n",
       "      <td>KR</td>\n",
       "      <td>761</td>\n",
       "      <td>907.327425</td>\n",
       "      <td>19.20%</td>\n",
       "      <td>0.01%</td>\n",
       "      <td>0.10%</td>\n",
       "      <td>146.327425</td>\n",
       "      <td>146.327425</td>\n",
       "    </tr>\n",
       "    <tr>\n",
       "      <th>4</th>\n",
       "      <td>23-Nov</td>\n",
       "      <td>6</td>\n",
       "      <td>600001</td>\n",
       "      <td>KR001</td>\n",
       "      <td>KR</td>\n",
       "      <td>786</td>\n",
       "      <td>868.000000</td>\n",
       "      <td>10.40%</td>\n",
       "      <td>0.01%</td>\n",
       "      <td>0.00%</td>\n",
       "      <td>82.000000</td>\n",
       "      <td>82.000000</td>\n",
       "    </tr>\n",
       "  </tbody>\n",
       "</table>\n",
       "</div>"
      ],
      "text/plain": [
       "  Month-Year  PRODUCT_FAMILY    GMID    LOC Country Sales    Forecast    MAPE  \\\n",
       "0     23-Jul               6  600001  KR001      KR   909  868.279179   4.50%   \n",
       "1     23-Aug               6  600001  KR001      KR   786  867.675973  10.40%   \n",
       "2     23-Sep               6  600001  KR001      KR   846  906.330589   7.10%   \n",
       "3     23-Oct               6  600001  KR001      KR   761  907.327425  19.20%   \n",
       "4     23-Nov               6  600001  KR001      KR   786  868.000000  10.40%   \n",
       "\n",
       "  MAPE_Impact MAPE_Contribution  Absolute Error  Non Absolute Error  \n",
       "0       0.00%             0.00%       40.720821          -40.720821  \n",
       "1       0.01%             0.00%       81.675973           81.675973  \n",
       "2       0.01%             0.00%       60.330590           60.330590  \n",
       "3       0.01%             0.10%      146.327425          146.327425  \n",
       "4       0.01%             0.00%       82.000000           82.000000  "
      ]
     },
     "execution_count": 3,
     "metadata": {},
     "output_type": "execute_result"
    }
   ],
   "source": [
    "df1 = pd.read_csv(\"/Users/verapinto/Desktop/Final_Project/Data_Science_E2E_Project/Forecast.csv\")\n",
    "df1.head()"
   ]
  },
  {
   "cell_type": "code",
   "execution_count": 6,
   "id": "648c65d4-41e5-47b2-b156-ee3e036143dd",
   "metadata": {},
   "outputs": [
    {
     "data": {
      "text/plain": [
       "(18159, 12)"
      ]
     },
     "execution_count": 6,
     "metadata": {},
     "output_type": "execute_result"
    }
   ],
   "source": [
    "df1.shape"
   ]
  },
  {
   "cell_type": "code",
   "execution_count": 8,
   "id": "14a6f068-2522-4d81-adbb-d0fc37c1f90b",
   "metadata": {},
   "outputs": [
    {
     "data": {
      "text/html": [
       "<div>\n",
       "<style scoped>\n",
       "    .dataframe tbody tr th:only-of-type {\n",
       "        vertical-align: middle;\n",
       "    }\n",
       "\n",
       "    .dataframe tbody tr th {\n",
       "        vertical-align: top;\n",
       "    }\n",
       "\n",
       "    .dataframe thead th {\n",
       "        text-align: right;\n",
       "    }\n",
       "</style>\n",
       "<table border=\"1\" class=\"dataframe\">\n",
       "  <thead>\n",
       "    <tr style=\"text-align: right;\">\n",
       "      <th></th>\n",
       "      <th>Product.Family</th>\n",
       "      <th>GMID</th>\n",
       "      <th>GMID_Description</th>\n",
       "      <th>Market</th>\n",
       "      <th>Geography</th>\n",
       "      <th>Material.Type.GMID</th>\n",
       "      <th>Date</th>\n",
       "      <th>Coverage</th>\n",
       "      <th>Min</th>\n",
       "      <th>Max</th>\n",
       "    </tr>\n",
       "  </thead>\n",
       "  <tbody>\n",
       "    <tr>\n",
       "      <th>0</th>\n",
       "      <td>6</td>\n",
       "      <td>600001</td>\n",
       "      <td>06 2.9MG/5ML</td>\n",
       "      <td>Korea</td>\n",
       "      <td>International</td>\n",
       "      <td>FG</td>\n",
       "      <td>23-Jul</td>\n",
       "      <td>1.82</td>\n",
       "      <td>2.73</td>\n",
       "      <td>4.91</td>\n",
       "    </tr>\n",
       "    <tr>\n",
       "      <th>1</th>\n",
       "      <td>6</td>\n",
       "      <td>600002</td>\n",
       "      <td>06 2.9MG/5ML</td>\n",
       "      <td>Hong Kong</td>\n",
       "      <td>Greater China</td>\n",
       "      <td>FG</td>\n",
       "      <td>23-Jul</td>\n",
       "      <td>3.09</td>\n",
       "      <td>2.86</td>\n",
       "      <td>5.68</td>\n",
       "    </tr>\n",
       "    <tr>\n",
       "      <th>2</th>\n",
       "      <td>6</td>\n",
       "      <td>600003</td>\n",
       "      <td>06 2.9MG/5ML</td>\n",
       "      <td>Canada</td>\n",
       "      <td>North America</td>\n",
       "      <td>FG</td>\n",
       "      <td>23-Jul</td>\n",
       "      <td>3.41</td>\n",
       "      <td>2.73</td>\n",
       "      <td>5.68</td>\n",
       "    </tr>\n",
       "    <tr>\n",
       "      <th>3</th>\n",
       "      <td>6</td>\n",
       "      <td>600004</td>\n",
       "      <td>06 2.9MG/5ML</td>\n",
       "      <td>Malaysia</td>\n",
       "      <td>International</td>\n",
       "      <td>FG</td>\n",
       "      <td>23-Jul</td>\n",
       "      <td>0.91</td>\n",
       "      <td>3.18</td>\n",
       "      <td>9.14</td>\n",
       "    </tr>\n",
       "    <tr>\n",
       "      <th>4</th>\n",
       "      <td>6</td>\n",
       "      <td>600005</td>\n",
       "      <td>06 500IU/5ML</td>\n",
       "      <td>Australia</td>\n",
       "      <td>International</td>\n",
       "      <td>FG</td>\n",
       "      <td>23-Jul</td>\n",
       "      <td>0.91</td>\n",
       "      <td>2.73</td>\n",
       "      <td>4.59</td>\n",
       "    </tr>\n",
       "  </tbody>\n",
       "</table>\n",
       "</div>"
      ],
      "text/plain": [
       "   Product.Family    GMID GMID_Description     Market      Geography  \\\n",
       "0               6  600001     06 2.9MG/5ML      Korea  International   \n",
       "1               6  600002     06 2.9MG/5ML  Hong Kong  Greater China   \n",
       "2               6  600003     06 2.9MG/5ML     Canada  North America   \n",
       "3               6  600004     06 2.9MG/5ML   Malaysia  International   \n",
       "4               6  600005     06 500IU/5ML  Australia  International   \n",
       "\n",
       "  Material.Type.GMID    Date  Coverage   Min   Max  \n",
       "0                 FG  23-Jul      1.82  2.73  4.91  \n",
       "1                 FG  23-Jul      3.09  2.86  5.68  \n",
       "2                 FG  23-Jul      3.41  2.73  5.68  \n",
       "3                 FG  23-Jul      0.91  3.18  9.14  \n",
       "4                 FG  23-Jul      0.91  2.73  4.59  "
      ]
     },
     "execution_count": 8,
     "metadata": {},
     "output_type": "execute_result"
    }
   ],
   "source": [
    "df2 = pd.read_csv(\"/Users/verapinto/Desktop/Final_Project/Data_Science_E2E_Project/Stocks.csv\")\n",
    "df2.head()"
   ]
  },
  {
   "cell_type": "code",
   "execution_count": null,
   "id": "d67bcc0f-429f-4d94-a784-bd8f0a46e328",
   "metadata": {},
   "outputs": [],
   "source": [
    "df2.shape"
   ]
  },
  {
   "cell_type": "code",
   "execution_count": null,
   "id": "984bd710-02df-4cfe-8bce-168639ca6a59",
   "metadata": {},
   "outputs": [],
   "source": [
    "df_geo  = pd.read_csv(\"/Users/verapinto/Desktop/Final_Project/Data_Science_E2E_Project/Countries_Geo.csv\")\n",
    "df_geo.head()"
   ]
  },
  {
   "cell_type": "code",
   "execution_count": null,
   "id": "03bd9579-555d-4f1f-8b63-0ce63868c520",
   "metadata": {},
   "outputs": [],
   "source": [
    "df_md  = pd.read_csv(\"/Users/verapinto/Desktop/Final_Project/Data_Science_E2E_Project/MD.csv\")\n",
    "df_md.head()"
   ]
  },
  {
   "cell_type": "markdown",
   "id": "45371cbf-e6fa-41c8-a876-bf79392cab74",
   "metadata": {},
   "source": [
    "# Data Preparation"
   ]
  },
  {
   "cell_type": "markdown",
   "id": "e02c8838-8444-4974-87b8-8df587c390c1",
   "metadata": {},
   "source": [
    "### Merge Datasets"
   ]
  },
  {
   "cell_type": "markdown",
   "id": "5fe441b2-fd9b-4223-a856-c010f3afd29f",
   "metadata": {},
   "source": [
    "#### Merge df1 ( sales, forecast, mape, absolute error information) with df_geo to append Market and Geography column"
   ]
  },
  {
   "cell_type": "code",
   "execution_count": null,
   "id": "5110b360-1933-4e1c-9cc4-fba8e8ef727b",
   "metadata": {},
   "outputs": [],
   "source": [
    "# Merge df1 with country metadata to add Country_Desc and Geography columns\n",
    "df1_enriched = df1.merge(\n",
    "    df_geo[['Country_Key', 'Country_Desc', 'Geography']],\n",
    "    left_on='Country',\n",
    "    right_on='Country_Key',\n",
    "    how='left'  # Preserves all rows from df1\n",
    ")\n",
    "df1_enriched.drop(columns='Country_Key', inplace=True)\n",
    "df1_enriched.head()"
   ]
  },
  {
   "cell_type": "code",
   "execution_count": null,
   "id": "67a82a8d-0673-4068-9c59-cf1aabd1c285",
   "metadata": {},
   "outputs": [],
   "source": [
    "# check duplication of rows after merge\n",
    "print(\"Before merge:\", len(df1))\n",
    "print(\"After merge:\", len(df1_enriched))"
   ]
  },
  {
   "cell_type": "code",
   "execution_count": null,
   "id": "1aae7490-a6f9-466d-be41-9eaa327facf3",
   "metadata": {},
   "outputs": [],
   "source": [
    "# Change column Month-Year to Date in df1 and df2\n",
    "df1_enriched.rename(columns={'Month-Year': 'Date'}, inplace=True)\n",
    "\n",
    "# Standardize keys in both dataframes\n",
    "df1_enriched['Date'] = df1_enriched['Date'].astype(str).str.strip().str.strip(\"'\").str.title()\n",
    "df1_enriched['Date'] = pd.to_datetime(df1_enriched['Date'], format='%y-%b', errors='coerce')\n",
    "\n",
    "df2['Date'] = df2['Date'].astype(str).str.strip().str.title()\n",
    "df2['Date'] = pd.to_datetime(df2['Date'], format='%y-%b', errors='coerce')"
   ]
  },
  {
   "cell_type": "markdown",
   "id": "edeb9d4c-d187-44d9-bd53-445ee43cf507",
   "metadata": {},
   "source": [
    "#### Identify and resolve duplicate records in df2"
   ]
  },
  {
   "cell_type": "code",
   "execution_count": null,
   "id": "64e72778-82b5-4a00-9f17-29fe926d4d04",
   "metadata": {},
   "outputs": [],
   "source": [
    "#check duplicates\n",
    "# Check if GMID + Date + Country_Key appear only once\n",
    "duplicates = df2.duplicated(subset=['GMID', 'Date', 'Market'])\n",
    "print(\"Duplicate rows in df2:\", duplicates.sum())\n"
   ]
  },
  {
   "cell_type": "code",
   "execution_count": null,
   "id": "31df3078-1b81-4940-8019-b53addb72671",
   "metadata": {},
   "outputs": [],
   "source": [
    "#Define key columns and priority rows (non-null coverage, min, max)\n",
    "\n",
    "# Replace NaNs with 0 for comparison\n",
    "df2['Coverage'] = df2['Coverage'].fillna(0)\n",
    "df2['Min'] = df2['Min'].fillna(0)\n",
    "df2['Max'] = df2['Max'].fillna(0)\n",
    "\n",
    "# Mark rows with valid (non-zero) values\n",
    "df2['has_data'] = (df2['Coverage'] > 0) | (df2['Min'] > 0) | (df2['Max'] > 0)\n",
    "\n",
    "#Sort to valid rows come first\n",
    "df2 = df2.sort_values(by='has_data', ascending=False)\n",
    "\n",
    "#Drop duplicates by keeping the first one (which now has valid values)\n",
    "df2 = df2.drop_duplicates(subset=['GMID', 'Date', 'Market'], keep='first')\n",
    "\n",
    "#Drop helper column\n",
    "df2.drop(columns='has_data', inplace=True)"
   ]
  },
  {
   "cell_type": "code",
   "execution_count": null,
   "id": "dd8aaf43-77aa-4133-bc2d-3fe2a05259d0",
   "metadata": {},
   "outputs": [],
   "source": [
    "# double check duplicated rows\n",
    "df2.duplicated(subset=['GMID', 'Date', 'Market']).sum()"
   ]
  },
  {
   "cell_type": "markdown",
   "id": "5bc1b391-2da0-4839-8b5f-438a2b50970b",
   "metadata": {},
   "source": [
    "#### Merge df1 (main dataset) with df2 (stock levels information)"
   ]
  },
  {
   "cell_type": "code",
   "execution_count": null,
   "id": "fc390fa7-2b6c-415f-8557-257cc638ca4d",
   "metadata": {},
   "outputs": [],
   "source": [
    "# Merge 2 tables\n",
    "df_merged = df1_enriched.merge(\n",
    "    df2[['GMID', 'Date', 'Market', 'Coverage', 'Min', 'Max']],\n",
    "    left_on=['GMID', 'Date', 'Country_Desc'],\n",
    "    right_on=['GMID', 'Date', 'Market'],\n",
    "    how='left'\n",
    ")\n",
    "\n",
    "df_merged.drop(columns=['MAPE_Impact','MAPE_Contribution', 'Non Absolute Error', 'Market'], inplace=True)\n",
    "df_merged.head()"
   ]
  },
  {
   "cell_type": "code",
   "execution_count": null,
   "id": "acd26f48-8125-475a-9f20-bc53417dc193",
   "metadata": {},
   "outputs": [],
   "source": [
    "#check duplication of rows after merge\n",
    "print(\"Before merge:\", len(df1_enriched))\n",
    "print(\"After merge:\", len(df_merged))\n"
   ]
  },
  {
   "cell_type": "markdown",
   "id": "b5d8abc6-9c38-49c9-8df4-aa8f2b323f65",
   "metadata": {},
   "source": [
    "#### Merge df1 (main dataset) with df3 (market and product segmentation information)"
   ]
  },
  {
   "cell_type": "code",
   "execution_count": null,
   "id": "bc7967cb-7815-4f5b-b869-6bddbab550b0",
   "metadata": {},
   "outputs": [],
   "source": [
    "df_smart = df_md[['PRODUCT_FAMILY', 'SMART_SEGMENTATION']].drop_duplicates()\n",
    "\n",
    "df1_smart = df_merged.merge(\n",
    "    df_smart,\n",
    "    on='PRODUCT_FAMILY',\n",
    "    how='left'\n",
    ")\n",
    "df1_smart.head()"
   ]
  },
  {
   "cell_type": "code",
   "execution_count": null,
   "id": "4d6531b7-9b2a-4d6f-86aa-77da71012096",
   "metadata": {},
   "outputs": [],
   "source": [
    "#check duplication of rows after merge\n",
    "print(\"Before merge:\", len(df_merged))\n",
    "print(\"After merge:\", len(df1_smart))"
   ]
  },
  {
   "cell_type": "code",
   "execution_count": null,
   "id": "5de3a71f-610b-47d3-b22d-0bbad1619bdb",
   "metadata": {},
   "outputs": [],
   "source": [
    "df_mco = df_md[['Market', 'MCO_SEGMENTATION']].drop_duplicates()\n",
    "\n",
    "df1_mco = df1_smart.merge(\n",
    "    df_mco,\n",
    "    left_on='Country',\n",
    "    right_on='Market',\n",
    "    how='left'\n",
    ").drop(columns=['Market'])  # Optional: remove Market after merge\n",
    "df1_mco.head()"
   ]
  },
  {
   "cell_type": "code",
   "execution_count": null,
   "id": "08a12177-f68e-44e5-b461-4149e141e3b8",
   "metadata": {},
   "outputs": [],
   "source": [
    "#check duplication of rows after merge\n",
    "print(\"Before merge:\", len(df_merged))\n",
    "print(\"After merge:\", len(df1_mco))"
   ]
  },
  {
   "cell_type": "code",
   "execution_count": null,
   "id": "e856cdce-5375-43a8-a950-fc7111eabacc",
   "metadata": {},
   "outputs": [],
   "source": [
    "df_strategy = df_md[['GMID', 'Market', 'STRATEGY_SEGMENTATION']].drop_duplicates()\n",
    "\n",
    "df_final = df1_mco.merge(\n",
    "    df_strategy,\n",
    "    left_on=['GMID', 'Country'],\n",
    "    right_on=['GMID', 'Market'],\n",
    "    how='left'\n",
    ").drop(columns=['Market'])  # Again, drop Market if it’s redundant\n",
    "df_final.head()"
   ]
  },
  {
   "cell_type": "code",
   "execution_count": null,
   "id": "7d59daec-481a-4aa6-815b-6f57f8c909bb",
   "metadata": {},
   "outputs": [],
   "source": [
    "#check duplication of rows after merge\n",
    "print(\"Before merge:\", len(df_merged))\n",
    "print(\"After merge:\", len(df_final))\n"
   ]
  },
  {
   "cell_type": "code",
   "execution_count": null,
   "id": "b0765301-a8ad-4419-8656-b79af28e0c36",
   "metadata": {},
   "outputs": [],
   "source": [
    "# rename columns name\n",
    "\n",
    "df_final.rename(columns={'Country_Desc': 'Market'}, inplace=True)\n",
    "df_final.rename(columns={'SMART_SEGMENTATION': 'pf_segmentation'}, inplace=True)\n",
    "df_final.rename(columns={'MCO_SEGMENTATION': 'market_segmentation'}, inplace=True)\n",
    "df_final.rename(columns={'STRATEGY_SEGMENTATION': 'gmid_segmentation'}, inplace=True)\n",
    "df_final.rename(columns={'Coverage': 'coverage_months'}, inplace=True)\n",
    "                         \n",
    "# Define the new order of columns\n",
    "new_order = ['Date', 'PRODUCT_FAMILY', 'GMID', 'LOC', 'Country','Market', 'Geography', 'Sales','Forecast', 'MAPE',\n",
    "             'Absolute Error','coverage_months', 'Min', 'Max', 'market_segmentation', 'pf_segmentation',\t'gmid_segmentation']\n",
    "\n",
    "# Apply the new order\n",
    "df = df_final[new_order]\n",
    "df.head()"
   ]
  },
  {
   "cell_type": "markdown",
   "id": "c69afa04-2811-471e-bb9d-f37f1a6fa518",
   "metadata": {},
   "source": [
    "# Data Cleaning & Wrangling"
   ]
  },
  {
   "cell_type": "code",
   "execution_count": null,
   "id": "de60fa61-35c3-4a4e-9183-05aa3822b2ce",
   "metadata": {},
   "outputs": [],
   "source": [
    "#format the headers\n",
    "df.columns = df.columns.str.lower().str.strip().str.replace(' ', '_')\n"
   ]
  },
  {
   "cell_type": "code",
   "execution_count": null,
   "id": "4538c784-cc4d-4cd4-b9d7-ae1bd3eed890",
   "metadata": {},
   "outputs": [],
   "source": [
    "#check data types\n",
    "\n",
    "df.info()"
   ]
  },
  {
   "cell_type": "code",
   "execution_count": null,
   "id": "266e83dc-edde-4a9d-80ea-e61eb352dffe",
   "metadata": {},
   "outputs": [],
   "source": [
    "#change types by column\n",
    "\n",
    "# Remove commas and convert to integers\n",
    "df['sales'] = df['sales'].astype(str).str.replace(',', '', regex=False)\n",
    "df['sales'] = pd.to_numeric(df['sales'], errors='coerce').fillna(0).astype('int64')\n",
    "\n",
    "df['forecast'] = (\n",
    "    df['forecast']\n",
    "    .astype(str)\n",
    "    .str.replace(',', '', regex=False)\n",
    "    .apply(pd.to_numeric, errors='coerce')\n",
    "    .fillna(0)\n",
    "    .apply(lambda x: int(round(x)))\n",
    ")\n",
    "\n",
    "\n",
    "float_cols = ['mape','absolute_error','coverage_months', 'min', 'max']\n",
    "\n",
    "for col in float_cols:\n",
    "    df[col] = pd.to_numeric(df[col], errors='coerce').round(2)\n",
    "\n",
    "df['year'] = df['date'].dt.year\n",
    "df['month'] = df['date'].dt.month"
   ]
  },
  {
   "cell_type": "code",
   "execution_count": null,
   "id": "1c067a45-4124-4b9b-8559-07deade59c73",
   "metadata": {},
   "outputs": [],
   "source": [
    "#recalculate MAPE, Absolute error columns\n",
    "\n",
    "# Absolute errors\n",
    "df['absolute_error'] = (df['forecast'].astype(float) - df['sales'].astype(float)).abs().round(2)\n",
    "\n",
    "# Recalculate mape \n",
    "df['mape'] = df.apply(\n",
    "    lambda row: round(abs(row['sales'] - row['forecast']) / row['sales'] * 100, 2)\n",
    "    if row['sales'] != 0 else 0,\n",
    "    axis=1\n",
    ")"
   ]
  },
  {
   "cell_type": "code",
   "execution_count": null,
   "id": "b3df903c-9e80-429e-b37b-8c742f389b79",
   "metadata": {},
   "outputs": [],
   "source": [
    "df.head()"
   ]
  },
  {
   "cell_type": "code",
   "execution_count": null,
   "id": "4f80bad7-4776-4c78-929f-8ab52c4c8011",
   "metadata": {},
   "outputs": [],
   "source": [
    "df.info()"
   ]
  },
  {
   "cell_type": "code",
   "execution_count": null,
   "id": "41ea5c89-7ad3-47d9-b9b7-8ecd817fe78d",
   "metadata": {},
   "outputs": [],
   "source": [
    "df.shape"
   ]
  },
  {
   "cell_type": "code",
   "execution_count": null,
   "id": "e93d2e6a-17fd-459d-abbf-7fc94365c983",
   "metadata": {},
   "outputs": [],
   "source": [
    "#Count of missing values per column\n",
    "df.isna().sum()"
   ]
  },
  {
   "cell_type": "code",
   "execution_count": null,
   "id": "57b1aa45-0967-49b0-b5b8-bffd26b3f32d",
   "metadata": {},
   "outputs": [],
   "source": [
    "# replace nan values\n",
    "df[['coverage_months', 'min', 'max']] = df[['coverage_months', 'min', 'max']].fillna(0).round(2)\n"
   ]
  },
  {
   "cell_type": "code",
   "execution_count": null,
   "id": "ffa15a23-5668-4c3e-b54e-6f69f941147b",
   "metadata": {},
   "outputs": [],
   "source": [
    "df.isna().sum()"
   ]
  },
  {
   "cell_type": "code",
   "execution_count": null,
   "id": "43b2b314-e1a7-4e7a-82fe-012269b94dfb",
   "metadata": {},
   "outputs": [],
   "source": [
    "#check gmid_key duplicates\n",
    "df['gmid_key'] = df['gmid'].astype(str) + '_'+ df['year'].astype(str) + df['month'].astype(str) + '_'+ df['country'].astype(str)\n",
    "duplicate_rows = df['gmid_key'].duplicated().sum()\n",
    "duplicate_rows\n"
   ]
  },
  {
   "cell_type": "code",
   "execution_count": null,
   "id": "ba39cea1-01e0-4707-94ec-d01febfc3e9b",
   "metadata": {},
   "outputs": [],
   "source": [
    "df[df['gmid_key'].duplicated()]\n"
   ]
  },
  {
   "cell_type": "code",
   "execution_count": null,
   "id": "c4a8ec5b-9ad7-4f06-a26c-84bc8e75cb99",
   "metadata": {},
   "outputs": [],
   "source": [
    "#Handle duplicated gmid_key rows by summing sales and forecast, while keeping the first values for the rest, \n",
    "#The difference is in loc and the country is the same (FR001 and FR003; Ae001 and AE002, SG001 and SG002)\n",
    "\n",
    "agg_dict = {\n",
    "    'sales': 'sum',\n",
    "    'forecast': 'sum',\n",
    "    'date': 'first',\n",
    "    'gmid': 'first',\n",
    "    'country': 'first',\n",
    "    'product_family': 'first',\n",
    "    'market': 'first',\n",
    "    'geography': 'first',\n",
    "    'mape': 'first',\n",
    "    'absolute_error': 'first',\n",
    "    'coverage_months': 'first',\n",
    "    'min': 'first',\n",
    "    'max': 'first',\n",
    "    'market_segmentation': 'first', \n",
    "    'pf_segmentation': 'first',\n",
    "    'gmid_segmentation': 'first',\n",
    "    'year': 'first',\n",
    "    'month': 'first'\n",
    "}\n",
    "df_grouped = df.groupby('gmid_key', as_index=False).agg(agg_dict)\n"
   ]
  },
  {
   "cell_type": "code",
   "execution_count": null,
   "id": "c63b7569-9ad6-4e2a-8a31-3b66bbe41163",
   "metadata": {},
   "outputs": [],
   "source": [
    "#check duplicates\n",
    "df_grouped['gmid_key'].duplicated().sum()"
   ]
  },
  {
   "cell_type": "code",
   "execution_count": null,
   "id": "01562194-4e9e-4f32-95e6-2e2d0a3afb21",
   "metadata": {},
   "outputs": [],
   "source": [
    "# Define the new order of columns\n",
    "new_order = ['gmid_key','date','year', 'month','product_family', 'gmid', 'country','market', 'geography', 'sales','forecast', 'mape',\n",
    "             'absolute_error','coverage_months', 'min', 'max', 'market_segmentation', 'pf_segmentation', 'gmid_segmentation']\n",
    "\n",
    "# Apply the new order\n",
    "df_all = df_grouped[new_order]\n"
   ]
  },
  {
   "cell_type": "code",
   "execution_count": null,
   "id": "e881b75e-04f6-4074-9fb5-be93bf8931fb",
   "metadata": {},
   "outputs": [],
   "source": [
    "#recalculate MAPE and Absolute error columns\n",
    "\n",
    "# Absolute errors\n",
    "df_all['absolute_error'] = (df_all['forecast'].astype(float) - df_all['sales'].astype(float)).abs().round(2)\n",
    "\n",
    "# Recalculate mape \n",
    "df_all['mape'] = df_all.apply(\n",
    "    lambda row: round(abs(row['sales'] - row['forecast']) / row['sales'] * 100, 2)\n",
    "    if row['sales'] != 0 else 0,\n",
    "    axis=1\n",
    ")"
   ]
  },
  {
   "cell_type": "code",
   "execution_count": null,
   "id": "cc0589e7-be9c-43a0-bf74-3df27626dee2",
   "metadata": {},
   "outputs": [],
   "source": [
    "df_all.head()"
   ]
  },
  {
   "cell_type": "code",
   "execution_count": null,
   "id": "b7f07650-122d-400b-9612-94ac51bbdad4",
   "metadata": {},
   "outputs": [],
   "source": [
    "df_all.to_csv('file.csv', index=False)"
   ]
  },
  {
   "cell_type": "markdown",
   "id": "6cddb7b7-fb1e-4e70-a79b-5bd2f5e0d699",
   "metadata": {},
   "source": [
    "# Exploratory Data Analysis (EDA)"
   ]
  },
  {
   "cell_type": "code",
   "execution_count": null,
   "id": "c8fe576e-7d2d-4e2c-8247-4fd5eebc3cdd",
   "metadata": {},
   "outputs": [],
   "source": [
    "#count of GMIDs\n",
    "num_gmids = df_all['gmid'].nunique()\n",
    "print(f\"Total unique GMIDs: {num_gmids}\")\n"
   ]
  },
  {
   "cell_type": "code",
   "execution_count": null,
   "id": "7f352300-b9e6-4540-886e-cb816f0fdcbe",
   "metadata": {},
   "outputs": [],
   "source": [
    "#count of Markets\n",
    "num_markt = df_all['country'].nunique()\n",
    "print(f\"Total unique Market: {num_markt}\")"
   ]
  },
  {
   "cell_type": "code",
   "execution_count": null,
   "id": "08b88ef8-3487-4637-8378-8e901ef3612f",
   "metadata": {},
   "outputs": [],
   "source": [
    "#Check statistical summary\n",
    "num_cols = ['sales', 'forecast', 'mape','absolute_error']\n",
    "\n",
    "df_all[num_cols].describe()\n"
   ]
  },
  {
   "cell_type": "markdown",
   "id": "c6981ab0-2272-4669-b3fd-b09f049e0cbf",
   "metadata": {},
   "source": [
    "### Univariate Analysis"
   ]
  },
  {
   "cell_type": "code",
   "execution_count": null,
   "id": "de8da1ee-6a23-4d2a-bb65-7ca5d86d703b",
   "metadata": {},
   "outputs": [],
   "source": [
    "#Check distribution for numerical features\n",
    "metrics = ['sales', 'forecast', 'mape']\n",
    "\n",
    "for metric in metrics:\n",
    "    plt.figure(figsize=(12, 5))\n",
    "    \n",
    "    # Histogram \n",
    "    plt.subplot(1, 2, 1)\n",
    "    sns.histplot(df_all[metric], bins=40, color='skyblue')\n",
    "    plt.title(f'{metric} - Histogram')\n",
    "\n",
    "    # Boxplot\n",
    "    plt.subplot(1, 2, 2)\n",
    "    sns.boxplot(x=df_all[metric], color='salmon')\n",
    "    plt.title(f'{metric} - Boxplot')\n",
    "\n",
    "    plt.tight_layout()\n",
    "    plt.show()\n",
    "\n"
   ]
  },
  {
   "cell_type": "code",
   "execution_count": null,
   "id": "a6507d00-2bb1-44c4-af69-d7d8fa3b68e6",
   "metadata": {},
   "outputs": [],
   "source": [
    "#High Sales by Country\n",
    "# Filter rows where sales > 75th percentile\n",
    "filtered_df = df_all[df_all['sales'] > 650]\n",
    "\n",
    "# Group by country\n",
    "country_counts = filtered_df['country'].value_counts().reset_index()\n",
    "country_counts.columns = ['country', 'count']\n",
    "\n",
    "# Plot\n",
    "plt.figure(figsize=(15, 5))\n",
    "sns.barplot(data=country_counts, x='country', y='count', palette='viridis')\n",
    "plt.title('Number of Records with Sales > 650 by Country')\n",
    "plt.xlabel('Country')\n",
    "plt.ylabel('Record Count')\n",
    "plt.xticks(rotation=0)\n",
    "plt.tight_layout()\n",
    "plt.show()\n"
   ]
  },
  {
   "cell_type": "code",
   "execution_count": null,
   "id": "5b27eb08-4197-4dc1-89d9-9e72fd593eb7",
   "metadata": {},
   "outputs": [],
   "source": [
    "#High Sales by Product Family\n",
    "\n",
    "# Group by product_family\n",
    "product_counts = filtered_df['product_family'].value_counts().reset_index()\n",
    "product_counts.columns = ['product_family', 'count']\n",
    "\n",
    "# Plot\n",
    "plt.figure(figsize=(10, 5))\n",
    "sns.barplot(data=product_counts, x='product_family', y='count', palette='magma')\n",
    "plt.title('Number of Records with Sales > 650 by Product Family')\n",
    "plt.xlabel('Product Family')\n",
    "plt.ylabel('Record Count')\n",
    "plt.tight_layout()\n",
    "plt.show()\n"
   ]
  },
  {
   "cell_type": "code",
   "execution_count": null,
   "id": "155f582d-2c23-45e9-8097-bf48d5259c56",
   "metadata": {},
   "outputs": [],
   "source": [
    "# Filter rows where MAPE > 75th percentile\n",
    "high_mape_df = df_all[df_all['mape'] > 51.145]\n",
    "\n",
    "# Count high MAPE records by country\n",
    "country_mape_counts = high_mape_df['country'].value_counts().reset_index()\n",
    "country_mape_counts.columns = ['country', 'count']\n",
    "\n",
    "# Plot\n",
    "plt.figure(figsize=(16, 5))\n",
    "sns.barplot(data=country_mape_counts, x='country', y='count', palette='rocket')\n",
    "plt.title('Records with MAPE > 75th Percentile by Country')\n",
    "plt.xlabel('Country')\n",
    "plt.ylabel('Record Count')\n",
    "plt.xticks(rotation=0)\n",
    "plt.tight_layout()\n",
    "plt.show()\n"
   ]
  },
  {
   "cell_type": "code",
   "execution_count": null,
   "id": "c3fbec4b-e292-4fbd-abb0-4ea312b7c272",
   "metadata": {},
   "outputs": [],
   "source": [
    "# Filter rows where MAPE > 1000%\n",
    "high_mape_df2 = df_all[df_all['mape'] > 1000]\n",
    "\n",
    "# Count high MAPE records by country\n",
    "country_mape_counts2 = high_mape_df2['country'].value_counts().reset_index()\n",
    "country_mape_counts2.columns = ['country', 'count']\n",
    "\n",
    "# Plot\n",
    "plt.figure(figsize=(16, 5))\n",
    "sns.barplot(data=country_mape_counts2, x='country', y='count', palette='rocket')\n",
    "plt.title('Records with MAPE > 1000 by Country')\n",
    "plt.xlabel('Country')\n",
    "plt.ylabel('Record Count')\n",
    "plt.xticks(rotation=0)\n",
    "plt.tight_layout()\n",
    "plt.show()"
   ]
  },
  {
   "cell_type": "code",
   "execution_count": null,
   "id": "8757cf56-a8c6-47f3-9128-31b2fb31a8ed",
   "metadata": {},
   "outputs": [],
   "source": [
    "# Count the number of entries per country\n",
    "country_counts = df_all['country'].value_counts().sort_values(ascending=True)\n",
    "\n",
    "# Set the figure size for better spacing\n",
    "plt.figure(figsize=(16, 8))  # Dynamically scale height\n",
    "\n",
    "# Plot horizontal bar chart\n",
    "sns.barplot(x=country_counts.index, y=country_counts.values, palette=\"viridis\")\n",
    "\n",
    "# Beautify the chart\n",
    "plt.title(\"Number of Records per Country\", fontsize=16)\n",
    "plt.xlabel(\"Count\", fontsize=12)\n",
    "plt.ylabel(\"Country\", fontsize=12)\n",
    "plt.grid(axis='x', linestyle='--', alpha=0.5)\n",
    "plt.tight_layout()\n",
    "plt.show()"
   ]
  },
  {
   "cell_type": "markdown",
   "id": "b5a0b9ff-d8df-4dd4-a372-a0a56e6fff37",
   "metadata": {},
   "source": [
    "### Bivariate Analysis"
   ]
  },
  {
   "cell_type": "code",
   "execution_count": null,
   "id": "4bf46d50-7d3d-4f50-98fd-8dd08a2deac3",
   "metadata": {},
   "outputs": [],
   "source": [
    "#mean (average) of sales for each month\n",
    "sns.barplot(x=\"month\", y=\"sales\", data=df_all, ci=None)"
   ]
  },
  {
   "cell_type": "code",
   "execution_count": null,
   "id": "275f7c27-e29a-4a02-92aa-d53f08afcf78",
   "metadata": {},
   "outputs": [],
   "source": [
    "df_all.set_index('date').resample('M')['sales'].sum().plot(title='Monthly Sales Trend')\n"
   ]
  },
  {
   "cell_type": "markdown",
   "id": "f5a10116-1fa3-4452-a4a2-5dd551e337ae",
   "metadata": {},
   "source": [
    "* Despite the upward trend, there are visible dips along the way, suggesting seasonal effects, market shifts, or temporary challenges."
   ]
  },
  {
   "cell_type": "code",
   "execution_count": null,
   "id": "1faf7ac9-ee76-4395-81f6-1f680dd66a78",
   "metadata": {},
   "outputs": [],
   "source": [
    "#Sales Vs Forecast\n",
    "sns.scatterplot(x='forecast', y='sales', data=df_all)\n",
    "plt.title('Forecast vs. Sales')\n"
   ]
  },
  {
   "cell_type": "markdown",
   "id": "4015f271-93d3-46f4-8cc3-751271f8764a",
   "metadata": {},
   "source": [
    "* Strong Positive Correlation: Sales values rise alongside forecast values. This tight clustering along a diagonal suggests a reliable prediction model—when forecasts go up, actual sales usually follow.\n",
    "\n",
    "* Forecast Accuracy: The proximity of most data points to the diagonal implies high accuracy in predictions. Few outliers indicate minimal deviation between forecasted and actual results.\n",
    "\n",
    "* Strategic Alignment: The consistent relationship means business strategies based on forecasts are likely well-aligned with market performance."
   ]
  },
  {
   "cell_type": "code",
   "execution_count": null,
   "id": "cd78f183-3cf1-4db9-a4cf-225ba9048d82",
   "metadata": {},
   "outputs": [],
   "source": [
    "#sales vs. forecast side by side for each product family\n",
    "# Group and sum sales & forecast by product family\n",
    "sales_forecast_pf = df_all.groupby('product_family')[['sales', 'forecast']].sum().reset_index()\n",
    "# Melt data to long format for grouped bars\n",
    "melted_pf = sales_forecast_pf.melt(\n",
    "    id_vars='product_family',\n",
    "    value_vars=['sales', 'forecast'],\n",
    "    var_name='type',\n",
    "    value_name='value'\n",
    ")\n",
    "\n",
    "\n",
    "\n",
    "plt.figure(figsize=(12, 6))\n",
    "ax = sns.barplot(data=melted_pf, x='product_family', y='value', hue='type', palette='Set2')\n",
    "\n",
    "# Use logarithmic scale for y-axis\n",
    "ax.set_yscale('log')\n",
    "\n",
    "\n",
    "\n",
    "\n",
    "plt.title('Sales vs. Forecast by Product Family (Log Scale)')\n",
    "plt.xlabel('Product Family')\n",
    "plt.ylabel('Total Units (log scale)')\n",
    "plt.legend(title='Metric')\n",
    "plt.tight_layout()\n",
    "plt.show()\n",
    "\n"
   ]
  },
  {
   "cell_type": "code",
   "execution_count": null,
   "id": "7ade170f-deb0-41cd-ad98-e3b1b94af6c5",
   "metadata": {},
   "outputs": [],
   "source": [
    "# Group and calculate average MAPE by product family\n",
    "mape_by_pf = df_all.groupby('product_family')['mape'].mean().reset_index()\n",
    "\n",
    "# Sort by MAPE if needed (optional)\n",
    "mape_by_pf = mape_by_pf.sort_values(by='mape', ascending=False)\n",
    "\n",
    "# Plot\n",
    "plt.figure(figsize=(12, 5))\n",
    "ax = sns.barplot(data=mape_by_pf, x='product_family', y='mape', palette='Blues_r')\n",
    "\n",
    "# Add value labels\n",
    "for container in ax.containers:\n",
    "    ax.bar_label(container, fmt='%.2f', label_type='edge')\n",
    "\n",
    "plt.title('Average MAPE by Product Family')\n",
    "plt.xlabel('Product Family')\n",
    "plt.ylabel('Average MAPE (%)')\n",
    "plt.tight_layout()\n",
    "plt.show()\n",
    "\n"
   ]
  },
  {
   "cell_type": "code",
   "execution_count": null,
   "id": "afbe5c44-ca7d-4bd7-ae44-b7e75c73d593",
   "metadata": {},
   "outputs": [],
   "source": [
    "# Sum total sales per country\n",
    "sales_by_country = df_all.groupby(\"country\", as_index=False)[\"sales\"].sum()\n",
    "sales_by_country = sales_by_country.sort_values(by=\"sales\", ascending=False)\n",
    "\n",
    "# Plot total sales\n",
    "plt.figure(figsize=(16, 8))\n",
    "sns.barplot(x=\"country\", y=\"sales\", data=sales_by_country)\n",
    "plt.title(\"Total Sales by Country in volume\", fontsize=16)\n",
    "plt.xticks(rotation=0)\n",
    "plt.tight_layout()\n",
    "plt.show()\n"
   ]
  },
  {
   "cell_type": "code",
   "execution_count": null,
   "id": "a44cf7a6-86ad-46d4-98b9-1313874d10f2",
   "metadata": {},
   "outputs": [],
   "source": [
    "#mape across Countries\n",
    "\n",
    "# First, extract the sorted country order based on total sales\n",
    "country_order = sales_by_country['country']\n",
    "\n",
    "# Now use that order in your MAPE boxplot\n",
    "plt.figure(figsize=(16, 6))\n",
    "sns.boxplot(x='country', y='mape', data=df_all, order=country_order)\n",
    "plt.title(\"MAPE by Country\", fontsize=16)\n",
    "plt.xlabel(\"Country\", fontsize=12)\n",
    "plt.ylabel(\"MAPE\", fontsize=12)\n",
    "plt.xticks(rotation=0)\n",
    "plt.tight_layout()\n",
    "plt.show()\n"
   ]
  },
  {
   "cell_type": "code",
   "execution_count": null,
   "id": "0ab07f03-d62d-45d6-81b4-2825bfad374e",
   "metadata": {},
   "outputs": [],
   "source": [
    "# Group by year and month to calculate average MAPE\n",
    "mape_monthly_yearly = (\n",
    "    df_all.groupby(['year', 'month'])['mape']\n",
    "    .mean()\n",
    "    .reset_index()\n",
    ")\n",
    "\n",
    "# Optional: create a datetime column for plotting\n",
    "mape_monthly_yearly['date'] = pd.to_datetime(\n",
    "    mape_monthly_yearly[['year', 'month']].assign(day=1)\n",
    ")\n",
    "\n",
    "\n",
    "plt.figure(figsize=(14, 6))\n",
    "sns.lineplot(data=mape_monthly_yearly, x='date', y='mape', marker='o', color='darkgreen')\n",
    "\n",
    "plt.title('Average MAPE Evolution Across Months and Years')\n",
    "plt.xlabel('Date')\n",
    "plt.ylabel('Average MAPE (%)')\n",
    "plt.grid(True)\n",
    "plt.tight_layout()\n",
    "plt.show()\n"
   ]
  },
  {
   "cell_type": "markdown",
   "id": "fd8c7814-270f-4620-b3a5-b9e195544e89",
   "metadata": {},
   "source": [
    "#### Diagnose the April 2024 Spike"
   ]
  },
  {
   "cell_type": "code",
   "execution_count": null,
   "id": "aaaf1608-f27e-4e92-ad7e-de1da93ae5af",
   "metadata": {},
   "outputs": [],
   "source": [
    "spike_df = df_all[(df_all['year'] == 2024) & (df_all['month'] == 4)]\n",
    "spike_summary = spike_df.groupby(['country', 'product_family'])['mape'].mean().reset_index().sort_values(by='mape', ascending=False)\n",
    "\n",
    "spike_summary"
   ]
  },
  {
   "cell_type": "code",
   "execution_count": null,
   "id": "45ada33a-db94-4882-94f3-faa2f500b438",
   "metadata": {},
   "outputs": [],
   "source": [
    "geo_mape = df_all.groupby(['geography', 'year', 'month'])['mape'].mean().reset_index()\n",
    "\n",
    "geo_mape"
   ]
  },
  {
   "cell_type": "code",
   "execution_count": null,
   "id": "eb46d136-0abe-4d66-a078-723137d32043",
   "metadata": {},
   "outputs": [],
   "source": [
    "# Create a datetime column for proper x-axis formatting\n",
    "geo_mape['date'] = pd.to_datetime(geo_mape[['year', 'month']].assign(day=1))\n",
    "\n",
    "plt.figure(figsize=(14, 6))\n",
    "sns.lineplot(data=geo_mape, x='date', y='mape', hue='geography', marker='o', palette='Set1')\n",
    "\n",
    "plt.title('Average MAPE over Time by Geography')\n",
    "plt.xlabel('Date')\n",
    "plt.ylabel('Average MAPE (%)')\n",
    "plt.legend(title='Geography', bbox_to_anchor=(1.05, 1), loc='upper left')\n",
    "plt.grid(True)\n",
    "plt.tight_layout()\n",
    "plt.show()\n"
   ]
  },
  {
   "cell_type": "code",
   "execution_count": null,
   "id": "45faca74-d378-4577-b59b-7eacf6553a01",
   "metadata": {},
   "outputs": [],
   "source": [
    "df_all[['mape', 'coverage_months', 'sales', 'absolute_error']].corr()\n"
   ]
  },
  {
   "cell_type": "code",
   "execution_count": null,
   "id": "bdfb1f94-d632-48ab-9b0c-699268a0cbf3",
   "metadata": {},
   "outputs": [],
   "source": [
    "# Optional visualization: scatterplot\n",
    "sns.scatterplot(data=df_all, x='sales', y='absolute_error', hue='geography')\n"
   ]
  },
  {
   "cell_type": "code",
   "execution_count": null,
   "id": "559bca45-7955-4480-9b02-2f499c03de45",
   "metadata": {},
   "outputs": [],
   "source": [
    "# Group by year and month to calculate average MAPE\n",
    "monthly_mape = (\n",
    "    df_all.groupby(['year', 'month'])['mape']\n",
    "    .mean()\n",
    "    .reset_index()\n",
    "    .sort_values(by='mape', ascending=False)\n",
    ")\n",
    "\n",
    "# Display top months\n",
    "top_mape_months = monthly_mape.head(10)\n",
    "print(top_mape_months)\n"
   ]
  },
  {
   "cell_type": "code",
   "execution_count": null,
   "id": "52f19faa-9c3d-4de6-b40a-afed13ac7e36",
   "metadata": {},
   "outputs": [],
   "source": [
    "# Top 10 months by average MAPE\n",
    "plt.figure(figsize=(10, 5))\n",
    "monthly_top = top_mape_months.copy()\n",
    "monthly_top['label'] = monthly_top['year'].astype(str) + '-' + monthly_top['month'].astype(str).str.zfill(2)\n",
    "\n",
    "sns.barplot(data=monthly_top, x='label', y='mape', palette='Reds_r')\n",
    "plt.title('Months with Highest Average MAPE')\n",
    "plt.xlabel('Month')\n",
    "plt.ylabel('MAPE (%)')\n",
    "for container in plt.gca().containers:\n",
    "    plt.gca().bar_label(container, fmt='%.2f')\n",
    "plt.xticks(rotation=0)\n",
    "plt.tight_layout()\n",
    "plt.show()\n"
   ]
  },
  {
   "cell_type": "code",
   "execution_count": null,
   "id": "298665b9-b96f-4c21-b4db-006b7765e69d",
   "metadata": {},
   "outputs": [],
   "source": [
    "# Group by country and calculate average MAPE\n",
    "country_mape = (\n",
    "    df_all.groupby('country')['mape']\n",
    "    .mean()\n",
    "    .reset_index()\n",
    "    .sort_values(by='mape', ascending=False)\n",
    ")\n",
    "\n",
    "# Display top 5 countries\n",
    "top_5_countries = country_mape.head(5)\n",
    "print(top_5_countries)\n"
   ]
  },
  {
   "cell_type": "code",
   "execution_count": null,
   "id": "82b69918-e412-4524-a478-2f1db387d142",
   "metadata": {},
   "outputs": [],
   "source": [
    "plt.figure(figsize=(8, 4))\n",
    "sns.barplot(data=top_5_countries, x='country', y='mape', palette='Oranges_r')\n",
    "plt.title('Top 5 Countries with Highest Average MAPE')\n",
    "plt.xlabel('Country')\n",
    "plt.ylabel('MAPE (%)')\n",
    "for container in plt.gca().containers:\n",
    "    plt.gca().bar_label(container, fmt='%.2f')\n",
    "plt.tight_layout()\n",
    "plt.show()\n"
   ]
  },
  {
   "cell_type": "code",
   "execution_count": null,
   "id": "c062d916-f92c-4948-a2b8-7e5f4a5c57c8",
   "metadata": {},
   "outputs": [],
   "source": [
    "# Group by product family and calculate MAPE standard deviation\n",
    "pf_erratic = (\n",
    "    df_all.groupby('product_family')['mape']\n",
    "    .std()\n",
    "    .reset_index()\n",
    "    .rename(columns={'mape': 'mape_std'})\n",
    "    .sort_values(by='mape_std', ascending=False)\n",
    ")\n",
    "\n",
    "# Display top erratic product families\n",
    "top_erratic_pf = pf_erratic.head(10)\n",
    "print(top_erratic_pf)\n"
   ]
  },
  {
   "cell_type": "code",
   "execution_count": null,
   "id": "ada670ff-c880-4a76-88b5-c8130e737579",
   "metadata": {},
   "outputs": [],
   "source": [
    "plt.figure(figsize=(12, 5))\n",
    "sns.barplot(data=top_erratic_pf, x='product_family', y='mape_std', palette='Purples')\n",
    "plt.title('Product Families with Most Erratic Forecasts (MAPE Std Dev)')\n",
    "plt.xlabel('Product Family')\n",
    "plt.ylabel('MAPE Std Dev')\n",
    "for container in plt.gca().containers:\n",
    "    plt.gca().bar_label(container, fmt='%.2f')\n",
    "plt.tight_layout()\n",
    "plt.show()\n"
   ]
  },
  {
   "cell_type": "code",
   "execution_count": null,
   "id": "1ce7bc8e-4efb-40c0-babc-c2a653fa557d",
   "metadata": {},
   "outputs": [],
   "source": [
    "# Calculate average MAPE by country and sort descending\n",
    "data = (\n",
    "    df_all.groupby('country')['mape']\n",
    "    .mean()\n",
    "    .reset_index()\n",
    "    .sort_values(by='mape', ascending=False)\n",
    ")\n",
    "\n",
    "# Plot bar chart\n",
    "plt.figure(figsize=(16, 6))\n",
    "ax = sns.barplot(data=data, x='country', y='mape', palette='viridis')\n",
    "\n",
    "# Add value labels to bars\n",
    "for container in ax.containers:\n",
    "    ax.bar_label(container, fmt='%.2f', label_type='edge')\n",
    "\n",
    "plt.title('Average MAPE by Country (Descending Order)')\n",
    "plt.xlabel('Country')\n",
    "plt.ylabel('MAPE (%)')\n",
    "plt.xticks(rotation=45)\n",
    "plt.tight_layout()\n",
    "plt.show()\n",
    "\n"
   ]
  },
  {
   "cell_type": "code",
   "execution_count": null,
   "id": "b016d320-00ce-4833-a384-6d19d4179f44",
   "metadata": {},
   "outputs": [],
   "source": [
    "#mape across Product Families\n",
    "\n",
    "plt.figure(figsize=(14, 6))  # You can adjust width and height as needed\n",
    "sns.boxplot(x='product_family', y='mape', data=df_all)\n",
    "plt.title(\"MAPE Across Product Families\", fontsize=16)\n",
    "plt.xlabel(\"Product Family\", fontsize=12)\n",
    "plt.ylabel(\"MAPE\", fontsize=12)\n",
    "plt.xticks(rotation=0)  # Rotating labels often helps with wider plots\n",
    "plt.tight_layout()\n",
    "plt.show()\n",
    "\n"
   ]
  },
  {
   "cell_type": "code",
   "execution_count": null,
   "id": "fe0376ae-7eee-4875-947a-2933e7d25909",
   "metadata": {},
   "outputs": [],
   "source": [
    "#mape by Geography\n",
    "\n",
    "plt.figure(figsize=(14, 6))  # You can adjust width and height as needed\n",
    "sns.boxplot(x='geography', y='mape', data=df_all)\n",
    "plt.title(\"MAPE By Geography\", fontsize=16)\n",
    "plt.xlabel(\"Geography\", fontsize=12)\n",
    "plt.ylabel(\"MAPE\", fontsize=12)\n",
    "plt.xticks(rotation=0)  # Rotating labels often helps with wider plots\n",
    "plt.tight_layout()\n",
    "plt.show()"
   ]
  },
  {
   "cell_type": "code",
   "execution_count": null,
   "id": "945d743e-9bb0-4d6b-89e9-f52b873fd703",
   "metadata": {},
   "outputs": [],
   "source": [
    "#Correlation Heatmap\n",
    "correlation = df_all[['year','month','product_family','gmid','sales', 'forecast', 'mape', 'absolute_error']].corr()\n",
    "sns.heatmap(correlation, annot=True, cmap='coolwarm')\n"
   ]
  },
  {
   "cell_type": "code",
   "execution_count": null,
   "id": "6509136e-0fde-4532-a8b1-6d0c28e09faf",
   "metadata": {
    "scrolled": true
   },
   "outputs": [],
   "source": [
    "def count_outliers_iqr(series):\n",
    "    Q1 = series.quantile(0.25)\n",
    "    Q3 = series.quantile(0.75)\n",
    "    IQR = Q3 - Q1\n",
    "    lower = Q1 - 1.5 * IQR\n",
    "    upper = Q3 + 1.5 * IQR\n",
    "    return ((series < lower) | (series > upper)).sum()\n",
    "\n",
    "# Columns to analyze\n",
    "cols_to_check = ['sales', 'forecast', 'mape']\n",
    "outlier_counts = {col: count_outliers_iqr(df_all[col].dropna()) for col in cols_to_check}\n",
    "\n",
    "# Display\n",
    "pd.Series(outlier_counts, name='Outlier Count')\n"
   ]
  },
  {
   "cell_type": "markdown",
   "id": "b129e346-b39d-433d-a5b7-265270bc5812",
   "metadata": {},
   "source": [
    "* sales - around 12% - Moderate; could cap or transform.  \n",
    "* forecast - around 12% - Similar to sales; likely due to erratic predictions.\n",
    "* mape - around 6% - Many MAPE outliers reflect high error (often from small sales)."
   ]
  },
  {
   "cell_type": "markdown",
   "id": "91c4d57b-1758-470f-ba71-afca6a5cfd10",
   "metadata": {},
   "source": [
    "### Log transformation and segmentation"
   ]
  },
  {
   "cell_type": "code",
   "execution_count": null,
   "id": "6df1182b-1e44-4e9d-a658-7ebf4f3f79d5",
   "metadata": {},
   "outputs": [],
   "source": [
    "#consider only sales >0\n",
    "\n",
    "df_active = df_all[df_all['sales'] > 0].copy()\n",
    "\n",
    "\n",
    "# Log transformation and segmentation\n",
    "df_active['log_sales'] = np.log1p(df_active['sales']) \n",
    "df_active['log_segment'] = pd.cut(df_active['log_sales'], \n",
    "                                 bins=[-np.inf, 2, 4, 6, np.inf], \n",
    "                                 labels=['Very Low', 'Low-Mid', 'Mid-High', 'Very-High'])\n",
    "\n",
    "# Plotting both segmentation strategies side-by-side\n",
    "plt.figure(figsize=(14, 6))\n",
    "\n",
    "# Log-based plot\n",
    "plt.subplot(1, 2, 2)\n",
    "sns.countplot(x='log_segment', data=df_active, palette='summer')\n",
    "plt.title('Sales Segmentation by Log Scale')\n",
    "plt.xlabel('Segment')\n",
    "plt.ylabel('Frequency')\n",
    "\n",
    "plt.tight_layout()\n",
    "plt.show()"
   ]
  },
  {
   "cell_type": "code",
   "execution_count": null,
   "id": "e94bb19d-6eb2-401e-b970-833455e84693",
   "metadata": {},
   "outputs": [],
   "source": [
    "# Plot original vs log-transformed sales\n",
    "plt.figure(figsize=(14, 6))\n",
    "\n",
    "# Original sales distribution\n",
    "plt.subplot(1, 2, 1)\n",
    "sns.histplot(df_all['sales'], bins=50, kde=True, color='skyblue')\n",
    "plt.title('Original Sales Distribution')\n",
    "plt.xlabel('Sales')\n",
    "plt.ylabel('Frequency')\n",
    "\n",
    "# Log-transformed sales distribution\n",
    "plt.subplot(1, 2, 2)\n",
    "sns.histplot(df_active['log_sales'], bins=50, kde=True, color='lightgreen')\n",
    "plt.title('Log-Transformed Sales Distribution')\n",
    "plt.xlabel('Log(Sales + 1)')\n",
    "plt.ylabel('Frequency')\n",
    "\n",
    "plt.tight_layout()\n",
    "plt.show()"
   ]
  },
  {
   "cell_type": "code",
   "execution_count": null,
   "id": "99143976-4b13-44f4-ad7d-78be4d9e0b39",
   "metadata": {},
   "outputs": [],
   "source": [
    "\n",
    "# Ensure 'log_segment' exists and is correctly ordered\n",
    "segment_order = ['Very Low', 'Low-Mid', 'Mid-High', 'Very-High']\n",
    "\n",
    "# Calculate average MAPE by log segment (using df_active)\n",
    "mape_by_segment = df_active.groupby('log_segment')['mape'].mean().reindex(segment_order)\n",
    "\n",
    "# Create the plot\n",
    "plt.figure(figsize=(10, 6))\n",
    "ax = sns.countplot(data=df_active, x='log_segment', order=segment_order, palette='viridis')\n",
    "\n",
    "# Annotate each bar with count and MAPE\n",
    "for p, segment_name in zip(ax.patches, segment_order):\n",
    "    height = p.get_height()\n",
    "    xpos = p.get_x() + p.get_width() / 2.\n",
    "\n",
    "    # Add count label above the bar\n",
    "    ax.text(xpos, height + 50, f'{int(height)}', ha='center', fontsize=11, fontweight='bold')\n",
    "\n",
    "    # Add MAPE label inside the bar\n",
    "    mape_val = mape_by_segment.get(segment_name, np.nan)\n",
    "    ax.text(xpos, height / 2, f'MAPE: {mape_val:.1f}%', ha='center', va='center',\n",
    "            fontsize=10, color='white', fontweight='bold')\n",
    "\n",
    "# Formatting\n",
    "plt.title(\"Active Product Count by Log-Based Segment with Average MAPE\")\n",
    "plt.xlabel(\"Log-Based Sales Segment\")\n",
    "plt.ylabel(\"Count of Records\")\n",
    "plt.tight_layout()\n",
    "plt.show()\n",
    "\n"
   ]
  },
  {
   "cell_type": "markdown",
   "id": "de6a00c3-7d4c-4aa8-9cbf-70eba149c952",
   "metadata": {},
   "source": [
    "* High volume products have the lowest average MAPE —  forecasts are relatively more accurate.\n",
    "* Low volume products have a higher MAPE — forecasts are less accurate."
   ]
  },
  {
   "cell_type": "markdown",
   "id": "2311249e-fc73-4d58-9d43-f502453361fd",
   "metadata": {},
   "source": [
    "\n",
    "**** train separate models or tune differently for each segment"
   ]
  },
  {
   "cell_type": "code",
   "execution_count": null,
   "id": "a0c192e4-68b6-42a4-b2fe-b5b8bb9dad22",
   "metadata": {},
   "outputs": [],
   "source": [
    "\n",
    "plt.figure(figsize=(12, 6))\n",
    "sns.boxplot(data=df_active, x='log_segment', y='mape')\n",
    "plt.title('MAPE Distribution by Log Segment')\n",
    "plt.xticks(rotation=45)\n",
    "plt.tight_layout()\n",
    "plt.show()\n"
   ]
  },
  {
   "cell_type": "code",
   "execution_count": null,
   "id": "4a859a82-7568-417e-be9f-55dfedc4e5c3",
   "metadata": {},
   "outputs": [],
   "source": [
    "plt.figure(figsize=(12, 6))\n",
    "sns.boxplot(data=df_active, x='pf_segmentation', y='mape', palette='Set3')\n",
    "plt.title('MAPE Distribution by Product Family Segmentation')\n",
    "plt.xlabel('PF Segmentation')\n",
    "plt.ylabel('MAPE (%)')\n",
    "plt.xticks(rotation=45)\n",
    "plt.tight_layout()\n",
    "plt.show()\n"
   ]
  },
  {
   "cell_type": "code",
   "execution_count": null,
   "id": "ab216989-6567-4cb2-aa35-43f3ebee2bc8",
   "metadata": {},
   "outputs": [],
   "source": [
    "plt.figure(figsize=(12, 6))\n",
    "sns.violinplot(data=df_active, x='market_segmentation', y='mape', palette='Pastel1')\n",
    "plt.title('MAPE Distribution by Market Segmentation')\n",
    "plt.xlabel('Market Segmentation')\n",
    "plt.ylabel('MAPE (%)')\n",
    "plt.xticks(rotation=45)\n",
    "plt.tight_layout()\n",
    "plt.show()\n"
   ]
  },
  {
   "cell_type": "code",
   "execution_count": null,
   "id": "8e3e1cc7-08d1-447c-a6ee-8f009a6a3c38",
   "metadata": {},
   "outputs": [],
   "source": [
    "# Encode segmentation columns\n",
    "encoded_df = df_active.copy()\n",
    "segmentation_cols = ['market_segmentation', 'pf_segmentation', 'gmid_segmentation', 'log_segment']\n",
    "encoded_df[segmentation_cols] = encoded_df[segmentation_cols].astype('category').apply(lambda x: x.cat.codes)\n",
    "\n",
    "correlation_matrix = encoded_df[['mape'] + segmentation_cols].corr()\n",
    "correlation_matrix['mape']"
   ]
  },
  {
   "cell_type": "code",
   "execution_count": null,
   "id": "26f46afd-210c-4f95-bc1c-860d92cd9db8",
   "metadata": {},
   "outputs": [],
   "source": [
    "heatmap_df = (\n",
    "    df_all.groupby(['pf_segmentation', 'market_segmentation'])['mape']\n",
    "    .mean()\n",
    "    .unstack()\n",
    ")\n",
    "\n",
    "plt.figure(figsize=(10, 6))\n",
    "sns.heatmap(heatmap_df, annot=True, fmt=\".2f\", cmap='coolwarm')\n",
    "plt.title('Average MAPE by PF & Market Segmentation')\n",
    "plt.xlabel('Market Segmentation')\n",
    "plt.ylabel('PF Segmentation')\n",
    "plt.tight_layout()\n",
    "plt.show()\n"
   ]
  },
  {
   "cell_type": "markdown",
   "id": "cad9f26b-d01b-4b19-bf7a-1bf8b4275b7c",
   "metadata": {},
   "source": [
    "\n",
    "PF Segmentation\tMarket Segmentation\tAvg MAPE (%)\tInsight\n",
    "Secure\tRegular MCO\t129.29\t🚨 Highest error — this intersection struggles most\n",
    "Secure\tMajor MCO\t79.67\tModerate error, but still notable\n",
    "Secure\tTop MCO\t43.62\t🔹 Best performance in the Secure group\n",
    "Supply Growth\tMajor MCO\t116.71\t🚨 Very high — worth deeper review\n",
    "Supply Growth\tRegular MCO\t83.62\tModerate volatility\n",
    "Supply Growth\tTop MCO\t37.59\t🟢 Strongest forecast accuracy overall"
   ]
  },
  {
   "cell_type": "markdown",
   "id": "76181e2c-7f77-498e-8d73-462799336786",
   "metadata": {},
   "source": [
    "What You Can Do With This\n",
    "1️⃣ Targeted Model Calibration\n",
    "Segment your ML pipeline based on these intersections. For example:\n",
    "\n",
    "Use different hyperparameters or ensemble strategies for Secure + Regular MCO\n",
    "\n",
    "Isolate Supply Growth + Top MCO as a benchmark or stability zone\n",
    "\n",
    "2️⃣ Feature Engineering\n",
    "Include these combined segmentations (e.g. Secure_Regular_MCO) as categorical features in your predictive model. That way, model training accounts for historical error volatility per cluster.\n",
    "\n",
    "3️⃣ Anomaly Buffering\n",
    "For high-MAPE cells like Secure + Regular MCO, consider:\n",
    "\n",
    "Looser prediction intervals\n",
    "\n",
    "Conservative forecasting methods\n",
    "\n",
    "Override rules during promotional cycles or volatile months"
   ]
  },
  {
   "cell_type": "markdown",
   "id": "fa08405c-300d-4272-ab9e-e549cd44465b",
   "metadata": {},
   "source": [
    "Strategic Implications\n",
    "Regular MCO + Secure is a red flag. It may need separate handling in forecasting: capped errors, exception rules, even exclusion from some training data.\n",
    "\n",
    "Supply Growth + Top MCO behaves well—this could serve as a model calibration baseline or be trusted with more aggressive forecasting.\n",
    "\n",
    "You might consider:\n",
    "\n",
    "Segmenting models by seg_combo\n",
    "\n",
    "Flagging volatile clusters for anomaly detection\n",
    "\n",
    "Designing smarter fallback logic for the worst-performing segments"
   ]
  },
  {
   "cell_type": "code",
   "execution_count": null,
   "id": "7ba05910-7f65-4cfa-82b3-44bce3df092f",
   "metadata": {},
   "outputs": [],
   "source": [
    "#Combine segmentation columns into hybrid features\n",
    "df_active['seg_combo'] = df_all['pf_segmentation'] + '_' + df_all['market_segmentation']\n"
   ]
  },
  {
   "cell_type": "code",
   "execution_count": null,
   "id": "2ad7968f-fbc0-4886-bd9f-d71111ba9e20",
   "metadata": {},
   "outputs": [],
   "source": [
    "# Create lag features\n",
    "df_active = df_active.sort_values(by=['gmid', 'year', 'month'])\n",
    "df_active['sales_lag_3'] = df_active.groupby('gmid')['sales'].shift(3)\n",
    "df_active['forecast_lag_3'] = df_active.groupby('gmid')['forecast'].shift(3)\n",
    "\n",
    "df_active['sales_lag_3'] = df_active['sales_lag_3'].fillna(0)\n",
    "df_active['forecast_lag_3'] = df_active['forecast_lag_3'].fillna(0)\n"
   ]
  },
  {
   "cell_type": "code",
   "execution_count": null,
   "id": "a265e3de-65c7-45e7-b62d-1a3a05052c84",
   "metadata": {},
   "outputs": [],
   "source": [
    "df_active.head()"
   ]
  },
  {
   "cell_type": "markdown",
   "id": "39938b1d-595c-49f3-b446-3b863f3bdf57",
   "metadata": {},
   "source": [
    "# Machine Learning"
   ]
  },
  {
   "cell_type": "markdown",
   "id": "e4484128-5e4d-4684-a0c8-9cab03359704",
   "metadata": {},
   "source": [
    "### Train Test Split"
   ]
  },
  {
   "cell_type": "code",
   "execution_count": null,
   "id": "82b0d73b-2266-4447-9dff-896718a149a1",
   "metadata": {},
   "outputs": [],
   "source": [
    "features = ['sales_lag_3', 'forecast_lag_3', 'log_sales', 'pf_segmentation', 'market_segmentation']\n",
    "X = pd.get_dummies(df_active[features])\n",
    "y = df_active['sales']  # or forecast\n"
   ]
  },
  {
   "cell_type": "code",
   "execution_count": null,
   "id": "d2fd16e7-a155-4101-a297-e4f65d208484",
   "metadata": {
    "scrolled": true
   },
   "outputs": [],
   "source": [
    "X.head()"
   ]
  },
  {
   "cell_type": "code",
   "execution_count": null,
   "id": "b3dd1641-b6d9-4c3f-baae-5b45e8643f72",
   "metadata": {},
   "outputs": [],
   "source": [
    "X_train, X_test, y_train, y_test = train_test_split(X, y, test_size=0.20, random_state=0)"
   ]
  },
  {
   "cell_type": "markdown",
   "id": "138709b7-db4c-40d7-b0d3-ca89a0ab72de",
   "metadata": {},
   "source": [
    "### Scalling"
   ]
  },
  {
   "cell_type": "code",
   "execution_count": null,
   "id": "f988e838-c312-4c23-8496-c427cf592695",
   "metadata": {},
   "outputs": [],
   "source": [
    "scaler = StandardScaler()\n",
    "X_scaled = scaler.fit_transform(X_train)"
   ]
  },
  {
   "cell_type": "code",
   "execution_count": null,
   "id": "d50f25e0-ac32-46a9-aef2-857274f87bb0",
   "metadata": {},
   "outputs": [],
   "source": [
    "X_train_scaled = scaler.transform(X_train)\n",
    "X_test_scaled = scaler.transform(X_test)"
   ]
  },
  {
   "cell_type": "code",
   "execution_count": null,
   "id": "c469f958-e91d-4b60-80b4-0b95f2703be6",
   "metadata": {},
   "outputs": [],
   "source": [
    "X_train_scaled = pd.DataFrame(X_train_scaled, columns = X_train.columns)\n",
    "X_train_scaled.head()"
   ]
  },
  {
   "cell_type": "code",
   "execution_count": null,
   "id": "1873b6bf-e0e1-4e18-bdba-c2ac7a9c276d",
   "metadata": {},
   "outputs": [],
   "source": [
    "X_test_scaled = pd.DataFrame(X_test_scaled, columns = X_test.columns)\n",
    "X_test_scaled.head()"
   ]
  },
  {
   "cell_type": "markdown",
   "id": "66ba4ac5-d834-45a4-82d5-f7e5c78e9b3f",
   "metadata": {},
   "source": [
    "#### Linear regression"
   ]
  },
  {
   "cell_type": "code",
   "execution_count": null,
   "id": "1863c542-f48e-445b-a5ff-805b4592c6bb",
   "metadata": {},
   "outputs": [],
   "source": [
    "\n",
    "# Initialize the model\n",
    "lin_reg = LinearRegression()\n",
    "\n",
    "# Train the model\n",
    "lin_reg.fit(X_train_scaled, y_train)\n",
    "\n",
    "# Predict\n",
    "pred_lin = lin_reg.predict(X_test_scaled)\n",
    "\n",
    "# Evaluate performance\n",
    "r2_lin = r2_score(y_test, pred_lin)\n",
    "mae_lin = mean_absolute_error(y_test, pred_lin)\n",
    "rmse_lin = root_mean_squared_error(y_test, pred_lin)\n",
    "\n",
    "print(f\"R² Score: {r2_lin:.3f}\")\n",
    "print(f\"MAE: {mae_lin:.2f}\")\n",
    "print(f\"RMSE: {rmse_lin:.2f}\")\n"
   ]
  },
  {
   "cell_type": "code",
   "execution_count": null,
   "id": "8eab3cfa-d438-4f28-a59c-9b9c866e0a5b",
   "metadata": {},
   "outputs": [],
   "source": [
    "plt.figure(figsize=(8,6))\n",
    "plt.scatter(y_test, pred_lin, alpha=0.7, color='blue')\n",
    "plt.plot([y_test.min(), y_test.max()], [y_test.min(), y_test.max()], 'r--')\n",
    "\n",
    "plt.xlabel('Actual Sales')\n",
    "plt.ylabel('Predicted Sales (Linear Regression)')\n",
    "plt.title(f'Linear Regression Forecast\\nR²: {r2_lin:.2f} | MAE: {mae_lin:.2f}')\n",
    "plt.grid(True)\n",
    "plt.tight_layout()\n",
    "plt.show()"
   ]
  },
  {
   "cell_type": "markdown",
   "id": "2436cadb-3134-487b-ac0b-f92c1137d4ab",
   "metadata": {},
   "source": [
    "#### KNN"
   ]
  },
  {
   "cell_type": "code",
   "execution_count": null,
   "id": "ae0ca20f-3b9e-40ab-80b6-83b82ca2fb4b",
   "metadata": {},
   "outputs": [],
   "source": [
    "# Train KNN model\n",
    "knn = KNeighborsRegressor(n_neighbors=10)\n",
    "knn.fit(X_train_scaled, y_train)\n",
    "\n",
    "# Predict on test data\n",
    "pred_knn = knn.predict(X_test_scaled)\n",
    "\n",
    "# Evaluate\n",
    "print(\"MAE\", mean_absolute_error(pred_knn, y_test))\n",
    "print(\"RMSE\", root_mean_squared_error(pred_knn, y_test))\n",
    "print(\"R2 score\", knn.score(X_test_scaled, y_test))"
   ]
  },
  {
   "cell_type": "code",
   "execution_count": null,
   "id": "6430c745-5d64-4dd6-8eac-4eb90ab8b70d",
   "metadata": {},
   "outputs": [],
   "source": [
    "r2_knn = r2_score(y_test, pred_knn)\n",
    "mae_knn = mean_absolute_error(y_test, pred_knn)\n",
    "\n",
    "\n",
    "plt.figure(figsize=(8,6))\n",
    "plt.scatter(y_test, pred_knn, alpha=0.7, color='blue')\n",
    "plt.plot([y_test.min(), y_test.max()], [y_test.min(), y_test.max()], 'r--')\n",
    "\n",
    "plt.xlabel('Actual Sales')\n",
    "plt.ylabel('Predicted Sales (KNN)')\n",
    "plt.title(f'Actual vs Predicted Values with KNN\\nR²: {r2_knn:.2f} | MAE: {mae_knn:.2f}')\n",
    "plt.grid(True)\n",
    "plt.tight_layout()\n",
    "plt.show()\n"
   ]
  },
  {
   "cell_type": "markdown",
   "id": "e8d5e175-288c-424b-b209-6078011f9182",
   "metadata": {},
   "source": [
    "#### RandomForest"
   ]
  },
  {
   "cell_type": "code",
   "execution_count": null,
   "id": "c7d5ffaf-dbbc-4d54-8d48-82a0ec99ada9",
   "metadata": {},
   "outputs": [],
   "source": [
    "rf_model = RandomForestRegressor(n_estimators=100, random_state=20)\n",
    "rf_model.fit(X_train_scaled, y_train)\n",
    "pred_rf = rf_model.predict(X_test_scaled)\n",
    "\n",
    "print(\"MAE\", mean_absolute_error(pred_rf, y_test))\n",
    "print(\"RMSE\", root_mean_squared_error(pred_rf, y_test))\n",
    "print(\"R2 score\", rf_model.score(X_test_scaled, y_test))"
   ]
  },
  {
   "cell_type": "code",
   "execution_count": null,
   "id": "78582c44-66dc-4812-8584-9dbdf4b48dc8",
   "metadata": {},
   "outputs": [],
   "source": [
    "# Plot actual vs predicted\n",
    "\n",
    "r2 = r2_score(y_test, pred_rf)\n",
    "mae = mean_absolute_error(y_test, pred_rf)\n",
    "\n",
    "plt.figure(figsize=(8,6))\n",
    "plt.scatter(y_test, pred_rf, alpha=0.7, color='blue')\n",
    "plt.plot([y_test.min(), y_test.max()], [y_test.min(), y_test.max()], 'r--')  # Perfect fit line\n",
    "\n",
    "plt.xlabel('Actual Sales')\n",
    "plt.ylabel('Predicted Sales')\n",
    "plt.title(f'Actual vs Predicted (RandomForest)\\nR²: {r2:.2f} | MAE: {mae:.2f}')\n",
    "plt.grid(True)\n",
    "plt.tight_layout()\n",
    "plt.show()\n"
   ]
  },
  {
   "cell_type": "markdown",
   "id": "db292ffd-a1b5-4fde-a0b7-c926593074e3",
   "metadata": {},
   "source": [
    "#### Gradient Boosting"
   ]
  },
  {
   "cell_type": "code",
   "execution_count": null,
   "id": "b251d89c-5ccf-4f45-a620-e0966d695350",
   "metadata": {},
   "outputs": [],
   "source": [
    "gb_reg = GradientBoostingRegressor(max_depth=6, n_estimators=100)\n",
    "gb_reg.fit(X_train_scaled, y_train)\n",
    "\n",
    "# Predict and evaluate\n",
    "pred_gb = gb_reg.predict(X_test_scaled)\n",
    "mae_pred_gb = mean_absolute_error(y_test, pred_gb)\n",
    "rmse_pred_gb = root_mean_squared_error(y_test, pred_gb)\n",
    "r2_pred_gb = gb_reg.score(X_test_scaled, y_test)\n",
    "\n",
    "print(\"MAE:\", mae_pred_gb)\n",
    "print(\"RMSE:\", rmse_pred_gb)\n",
    "print(\"R2 Score:\", r2_pred_gb)"
   ]
  },
  {
   "cell_type": "code",
   "execution_count": null,
   "id": "803df24b-e159-4f56-9597-f6f4748655cc",
   "metadata": {},
   "outputs": [],
   "source": [
    "# Plot actual vs predicted\n",
    "plt.figure(figsize=(8,6))\n",
    "plt.scatter(y_test, pred_gb, alpha=0.7, color='blue')\n",
    "plt.plot([y_test.min(), y_test.max()], [y_test.min(), y_test.max()], 'r--')  # Perfect fit line\n",
    "\n",
    "plt.xlabel('Actual Sales')\n",
    "plt.ylabel('Predicted Sales')\n",
    "plt.title(f'Actual vs Predicted (Gradient Boosting)\\nR²: {r2_pred_gb:.2f} | MAE: {mae_pred_gb:.2f}')\n",
    "plt.grid(True)\n",
    "plt.tight_layout()\n",
    "plt.show()"
   ]
  },
  {
   "cell_type": "markdown",
   "id": "555212e1-2108-4c67-9fec-393792c80344",
   "metadata": {},
   "source": [
    "#### XGBoost"
   ]
  },
  {
   "cell_type": "code",
   "execution_count": null,
   "id": "9ee249ea-87e9-43d1-bd83-b1a112cc4be9",
   "metadata": {},
   "outputs": [],
   "source": [
    "# Initialize XGBoost model\n",
    "xgb_reg = xgb.XGBRegressor(\n",
    "    n_estimators=100,\n",
    "    max_depth=5,\n",
    "    learning_rate=0.1,\n",
    "    objective='reg:squarederror',\n",
    "    random_state=42\n",
    ")\n",
    "\n",
    "xgb_reg.fit(X_train, y_train)\n",
    "\n",
    "# Evaluate\n",
    "pred_xgb = xgb_reg.predict(X_test)\n",
    "\n",
    "\n",
    "print(\"XGBoost MAE:\", mean_absolute_error(y_test, pred_xgb))\n",
    "print(\"XGBoost RMSE:\", root_mean_squared_error(y_test, pred_xgb))\n",
    "print(\"XGBoost R²:\", r2_score(y_test, pred_xgb))\n"
   ]
  },
  {
   "cell_type": "markdown",
   "id": "ea3f682f-f5cf-4d50-be1b-0a27aab2a09d",
   "metadata": {},
   "source": [
    "#### AdaBoost Regressor"
   ]
  },
  {
   "cell_type": "code",
   "execution_count": null,
   "id": "482f0784-fadc-403e-aa93-4af3d1eadd4d",
   "metadata": {},
   "outputs": [],
   "source": [
    "# Initialize AdaBoost\n",
    "ada_reg = AdaBoostRegressor(n_estimators=100, learning_rate=0.5, random_state=42)\n",
    "\n",
    "# Train\n",
    "ada_reg.fit(X_train_scaled, y_train)\n",
    "\n",
    "# Predict and Evaluate\n",
    "pred_ada = ada_reg.predict(X_test_scaled)\n",
    "print(\"AdaBoost MAE:\", mean_absolute_error(y_test, pred_ada))\n",
    "print(\"AdaBoost RMSE:\", root_mean_squared_error(y_test, pred_ada))\n",
    "print(\"AdaBoost R²:\", r2_score(y_test, pred_ada))\n"
   ]
  },
  {
   "cell_type": "markdown",
   "id": "7e53facb-a386-4eb8-a7f1-45e46df56160",
   "metadata": {},
   "source": [
    "#### Bagging Regressor"
   ]
  },
  {
   "cell_type": "code",
   "execution_count": null,
   "id": "9b9c2427-2274-4b68-a19e-8a77ccd703c4",
   "metadata": {},
   "outputs": [],
   "source": [
    "\n",
    "# Initialize Bagging\n",
    "bag_reg = BaggingRegressor(n_estimators=100, random_state=42)\n",
    "\n",
    "# Train\n",
    "bag_reg.fit(X_train_scaled, y_train)\n",
    "\n",
    "# Predict and Evaluate\n",
    "pred_bag = bag_reg.predict(X_test_scaled)\n",
    "print(\"Bagging MAE:\", mean_absolute_error(y_test, pred_bag))\n",
    "print(\"Bagging RMSE:\", mean_squared_error(y_test, pred_bag, squared=False))\n",
    "print(\"Bagging R²:\", r2_score(y_test, pred_bag))\n"
   ]
  },
  {
   "cell_type": "code",
   "execution_count": null,
   "id": "4b26aa3f-fab1-4999-bc99-876f11a3d10d",
   "metadata": {},
   "outputs": [],
   "source": [
    "\n",
    "# Define models and predictions\n",
    "model_names = ['Linear', 'KNN', 'Random Forest', 'Gradient Boosting','XGBoost', 'AdaBoost', 'Bagging']\n",
    "models = [lin_reg, knn, rf_model, gb_reg, xgb_reg, ada_reg, bag_reg]\n",
    "\n",
    "# Collect metrics dynamically\n",
    "rmse_train = [\n",
    "    root_mean_squared_error(y_train, model.predict(X_train if model == xgb_reg else X_train_scaled))\n",
    "    for model in models\n",
    "]\n",
    "rmse_test = [\n",
    "    root_mean_squared_error(y_test, model.predict(X_test if model == xgb_reg else X_test_scaled))\n",
    "    for model in models\n",
    "]\n",
    "r2_train = [\n",
    "    r2_score(y_train, model.predict(X_train if model == xgb_reg else X_train_scaled))\n",
    "    for model in models\n",
    "]\n",
    "\n",
    "r2_test = [\n",
    "    r2_score(y_test, model.predict(X_test if model == xgb_reg else X_test_scaled))\n",
    "    for model in models\n",
    "]\n",
    "\n",
    "\n",
    "\n",
    "# Bar chart setup\n",
    "x = np.arange(len(model_names))\n",
    "width = 0.35\n",
    "\n",
    "fig, (ax1, ax2) = plt.subplots(1, 2, figsize=(16, 6))\n",
    "\n",
    "# RMSE comparison\n",
    "rects1 = ax1.bar(x - width/2, rmse_train, width, label='Train', color='mediumseagreen')\n",
    "rects2 = ax1.bar(x + width/2, rmse_test,  width, label='Test',  color='cornflowerblue')\n",
    "ax1.set_ylabel('RMSE')\n",
    "ax1.set_title('Train vs Test RMSE by Model')\n",
    "ax1.set_xticks(x)\n",
    "ax1.set_xticklabels(model_names, rotation=45)\n",
    "ax1.legend()\n",
    "\n",
    "# R² comparison\n",
    "rects3 = ax2.bar(x - width/2, r2_train, width, label='Train', color='salmon')\n",
    "rects4 = ax2.bar(x + width/2, r2_test,  width, label='Test',  color='orange')\n",
    "ax2.set_ylabel('R² Score')\n",
    "ax2.set_title('Train vs Test R² by Model')\n",
    "ax2.set_xticks(x)\n",
    "ax2.set_xticklabels(model_names, rotation=45)\n",
    "ax2.legend()\n",
    "\n",
    "# Annotate bars with values\n",
    "def annotate_bars(ax, rects):\n",
    "    for rect in rects:\n",
    "        height = rect.get_height()\n",
    "        ax.annotate(f'{height:.2f}', xy=(rect.get_x() + rect.get_width()/2, height),\n",
    "                    xytext=(0, 3), textcoords=\"offset points\",\n",
    "                    ha='center', va='bottom')\n",
    "\n",
    "annotate_bars(ax1, rects1)\n",
    "annotate_bars(ax1, rects2)\n",
    "annotate_bars(ax2, rects3)\n",
    "annotate_bars(ax2, rects4)\n",
    "\n",
    "plt.tight_layout()\n",
    "plt.show()\n"
   ]
  },
  {
   "cell_type": "markdown",
   "id": "76ca6d98-609b-44ef-8844-be4412273603",
   "metadata": {},
   "source": [
    "Gradient Boosting stands out as the most promising candidate for tuning:\n",
    "metric\tTrain\tTest\tInsight\n",
    "RMSE\t4.97\t749.44\tLowest test error — excellent generalization\n",
    "R² Score\t1.00\t1.00\tPerfect fit — but worth validating for overfittingM\n",
    "the tiny train RMSE suggests it’s fitting the training data extremely well.\n",
    "\n",
    "The low test RMSE and perfect R² imply it’s generalizing better than other models.\n",
    "\n",
    "Compared to Random Forest and Bagging (which also show strong R²), Gradient Boosting has a much lower test RMSE, making it more efficient and precise."
   ]
  },
  {
   "cell_type": "markdown",
   "id": "24aecedb-6fd3-4532-92d9-6654b200aa5b",
   "metadata": {},
   "source": [
    "That smaller difference between training and testing metrics in AdaBoost suggests it has better generalization and less overfitting compared to some other models.\n",
    "AdaBoost isn’t overly memorizing the training data like some models that hit perfect R² on train but wobble on test.\n",
    "\n",
    "🔹 While it may not have the absolute lowest RMSE, it could be more stable and reliable across unseen data.\n",
    "\n",
    "🔹 It’s a strong candidate if your goal is robustness rather than squeezing every last drop of accuracy."
   ]
  },
  {
   "cell_type": "code",
   "execution_count": null,
   "id": "73d737c5-becb-43ba-8a47-488e114d1d81",
   "metadata": {},
   "outputs": [],
   "source": [
    "\n",
    "# Initialize models\n",
    "gb_model = GradientBoostingRegressor(random_state=42)\n",
    "ada_model = AdaBoostRegressor(random_state=42)\n",
    "\n",
    "# Run 5-fold cross-validation\n",
    "gb_scores = cross_val_score(gb_model, X, y, cv=5, scoring='neg_root_mean_squared_error')\n",
    "ada_scores = cross_val_score(ada_model, X, y, cv=5, scoring='neg_root_mean_squared_error')\n",
    "\n",
    "# Convert to positive RMSE\n",
    "print(\"Gradient Boosting CV RMSE:\", -gb_scores.mean())\n",
    "print(\"AdaBoost CV RMSE:\", -ada_scores.mean())\n"
   ]
  },
  {
   "cell_type": "markdown",
   "id": "4f5ed341-c108-43bc-8717-3d74c1c686c9",
   "metadata": {},
   "source": [
    "Gradient Boosting is outperforming AdaBoost quite decisively in cross-validation, with a much lower RMSE. While AdaBoost looked promising in terms of stability between train and test, Gradient Boosting has the edge in predictive precision across folds.\n",
    "Gradient Boosting is your most efficient learner for this task, especially if your goal is minimizing forecast error.\n",
    "\n",
    "📉 AdaBoost is more cautious, but that extra bias might not be worth the hit in accuracy (~+1200 units of RMSE)."
   ]
  },
  {
   "cell_type": "code",
   "execution_count": null,
   "id": "6d9b5d6c-601c-474b-b453-af7c60ab94f0",
   "metadata": {},
   "outputs": [],
   "source": []
  },
  {
   "cell_type": "markdown",
   "id": "294701ca-5acb-4c7f-8274-8ae7f9c7b2e0",
   "metadata": {},
   "source": [
    "### Hyperparameter Tuning"
   ]
  },
  {
   "cell_type": "markdown",
   "id": "4bd78dd8-9d3a-478f-b3d7-401f10324954",
   "metadata": {},
   "source": [
    "#### Gradient Boosting"
   ]
  },
  {
   "cell_type": "code",
   "execution_count": null,
   "id": "8e1b6305-4c97-43c5-ae40-2baebd1f1b46",
   "metadata": {},
   "outputs": [],
   "source": [
    "#Define hyperparameter distribution (use reasonable ranges to avoid too large a search space)\n",
    "Parameter_Trials = {\n",
    "    'n_estimators': [100, 150, 200],\n",
    "    'learning_rate': [0.1, 0.5],\n",
    "    'max_depth': [10, 14],\n",
    "    'min_samples_split': [3, 6],\n",
    "    'min_samples_leaf': [1, 2],\n",
    "    'subsample': [0.3, 0.5]\n",
    "}\n",
    "\n",
    "# Perform RandomizedSearchCV\n",
    "model = RandomizedSearchCV(gb_reg, Parameter_Trials, n_iter = 10, cv = 5, n_jobs = -1)\n",
    "\n",
    "# Fit the model\n",
    "model.fit(X_train_scaled,y_train)"
   ]
  },
  {
   "cell_type": "code",
   "execution_count": null,
   "id": "1a84581e-a7e0-4a2d-95c8-f69563781c92",
   "metadata": {},
   "outputs": [],
   "source": [
    "# Get the best hyperparameters\n",
    "model.best_params_"
   ]
  },
  {
   "cell_type": "code",
   "execution_count": null,
   "id": "ed23a396-4222-4ca3-80f1-cfdde2c2f9f5",
   "metadata": {},
   "outputs": [],
   "source": [
    "# Get the best model\n",
    "best_model = model.best_estimator_"
   ]
  },
  {
   "cell_type": "code",
   "execution_count": null,
   "id": "fc0d6726-50d2-42bd-a485-b10ef0e027ad",
   "metadata": {},
   "outputs": [],
   "source": [
    "# Evaluate the best model on the test set\n",
    "best_pred_gb = best_model.predict(X_test_scaled)\n",
    "\n",
    "print(\"MAE\", mean_absolute_error(best_pred_gb, y_test))\n",
    "print(\"RMSE\", mean_squared_error(best_pred_gb, y_test, squared=False))\n",
    "print(\"R2 score\", best_model.score(X_test_scaled, y_test))"
   ]
  },
  {
   "cell_type": "code",
   "execution_count": null,
   "id": "7a0c18e1-a2a0-498f-835f-12089d76e4ca",
   "metadata": {},
   "outputs": [],
   "source": [
    "# Define metrics\n",
    "metrics = [\"MAE\", \"RMSE\", \"R²\"]\n",
    "baseline_values = [\n",
    "    mean_absolute_error(pred_gb, y_test),\n",
    "    mean_squared_error(pred_gb, y_test, squared=False),\n",
    "    gb_reg.score(X_test_scaled, y_test)\n",
    "]\n",
    "tuned_values = [\n",
    "    mean_absolute_error(y_test, best_pred_gb),\n",
    "    mean_squared_error(y_test, best_pred_gb, squared=False),\n",
    "    best_model.score(X_test_scaled, y_test)\n",
    "]\n",
    "\n",
    "# Set position of bars\n",
    "x = np.arange(len(metrics))\n",
    "width = 0.3\n",
    "\n",
    "# Create figure\n",
    "plt.figure(figsize=(8, 5))\n",
    "plt.bar(x - width/2, baseline_values, width, label=\"Baseline Gradient Boosting\", color=\"grey\")\n",
    "plt.bar(x + width/2, tuned_values, width, label=\"Tuned GB\", color=\"Green\")\n",
    "\n",
    "# Add labels\n",
    "plt.xticks(x, metrics)\n",
    "plt.ylabel(\"Score\")\n",
    "plt.title(\"Performance Comparison: Baseline vs Hyperparameter Tuning Gradient Boosting\")\n",
    "plt.legend(loc=\"upper right\", ncol=1)  # Horizontal legend\n",
    "\n",
    "# Show values on bars\n",
    "for i in range(len(metrics)):\n",
    "    plt.text(i - width/2, baseline_values[i] + 0.02, f\"{baseline_values[i]:.2f}\", ha='center', fontsize=12)\n",
    "    plt.text(i + width/2, tuned_values[i] + 0.02, f\"{tuned_values[i]:.2f}\", ha='center', fontsize=12)\n",
    "\n",
    "# Show chart\n",
    "plt.show()\n"
   ]
  },
  {
   "cell_type": "code",
   "execution_count": null,
   "id": "be3a2555-a056-4b6f-a48a-7fae04d4a01d",
   "metadata": {},
   "outputs": [],
   "source": [
    "print(\"Train R²:\", best_model.score(X_train_scaled, y_train))\n"
   ]
  },
  {
   "cell_type": "markdown",
   "id": "d2efc856-ced2-4da5-89fc-3a89e4bfd0e3",
   "metadata": {},
   "source": [
    "#### AdaBoost"
   ]
  },
  {
   "cell_type": "code",
   "execution_count": null,
   "id": "01c5ddab-bd1a-477a-bc64-20a7235cc36a",
   "metadata": {
    "scrolled": true
   },
   "outputs": [],
   "source": [
    "# Define custom base estimator\n",
    "tree = DecisionTreeRegressor()\n",
    "\n",
    "# Initialize AdaBoost with new 'estimator' parameter\n",
    "ada_reg = AdaBoostRegressor(estimator=tree, random_state=42)\n",
    "\n",
    "# Use double underscore to access DecisionTreeRegressor parameters\n",
    "ada_param = {\n",
    "    'n_estimators': [15, 20, 25, 30],\n",
    "    'learning_rate': [0.01, 0.5, 1.0, 1.5],\n",
    "    'estimator__max_leaf_nodes': [400, 450, 500, None],\n",
    "    'estimator__max_depth': [5, 10, 15]\n",
    "}\n",
    "\n",
    "# Set up GridSearchCV\n",
    "ada_search = GridSearchCV(\n",
    "    estimator=ada_reg,\n",
    "    param_grid=ada_param,\n",
    "    cv=5,\n",
    "    n_jobs=-1,\n",
    "    verbose=2\n",
    ")\n",
    "\n",
    "# Fit the model\n",
    "ada_search.fit(X_train_scaled, y_train)"
   ]
  },
  {
   "cell_type": "code",
   "execution_count": null,
   "id": "3dfac2d7-ef1a-4777-a593-e1a0a88fcfe5",
   "metadata": {},
   "outputs": [],
   "source": [
    "# Get the best hyperparameters\n",
    "ada_search.best_params_"
   ]
  },
  {
   "cell_type": "code",
   "execution_count": null,
   "id": "42d7ccd1-6fb7-47ac-9be0-f18374fdd901",
   "metadata": {},
   "outputs": [],
   "source": [
    "# Get the best model\n",
    "best_model = ada_search.best_estimator_"
   ]
  },
  {
   "cell_type": "code",
   "execution_count": null,
   "id": "d8990e6c-9b4d-4239-8d95-ea1dbe8cb74b",
   "metadata": {},
   "outputs": [],
   "source": [
    "# Evaluate the best model on the test set\n",
    "best_pred_ada = best_model.predict(X_test_scaled)\n",
    "\n",
    "print(\"MAE\", mean_absolute_error(best_pred_ada, y_test))\n",
    "print(\"RMSE\", mean_squared_error(best_pred_ada, y_test, squared=False))\n",
    "print(\"R2 score\", ada_search.score(X_test_scaled, y_test))"
   ]
  },
  {
   "cell_type": "code",
   "execution_count": null,
   "id": "ed1b0227-a804-40ef-8103-2142e7f02c7a",
   "metadata": {},
   "outputs": [],
   "source": [
    "\n",
    "\n",
    "# Baseline scores\n",
    "mae_baseline = mean_absolute_error(y_test, pred_ada)\n",
    "rmse_baseline = mean_squared_error(y_test, pred_ada, squared=False)\n",
    "r2_baseline = r2_score(y_test, pred_ada)\n",
    "\n",
    "# Tuned scores\n",
    "mae_tuned = mean_absolute_error(y_test, best_pred_ada)\n",
    "rmse_tuned = mean_squared_error(y_test, best_pred_ada, squared=False)\n",
    "r2_tuned = r2_score(y_test, best_pred_ada)\n",
    "\n",
    "# Bar setup\n",
    "metrics = ['MAE', 'RMSE', 'R²']\n",
    "baseline = [mae_baseline, rmse_baseline, r2_baseline]\n",
    "tuned = [mae_tuned, rmse_tuned, r2_tuned]\n",
    "\n",
    "x = np.arange(len(metrics))\n",
    "width = 0.35\n",
    "\n",
    "#Plot\n",
    "plt.figure(figsize=(10, 6))\n",
    "plt.bar(x - width/2, baseline, width, label='Baseline AdaBoost', color='slategray')\n",
    "plt.bar(x + width/2, tuned, width, label='Tuned AdaBoost', color='mediumseagreen')\n",
    "\n",
    "# Labels\n",
    "plt.xticks(x, metrics, fontsize=12)\n",
    "plt.ylabel(\"Metric Value\", fontsize=12)\n",
    "plt.title(\"📊 AdaBoost Performance: Before vs After Tuning\", fontsize=14)\n",
    "plt.legend()\n",
    "\n",
    "# Annotate bars\n",
    "for i in range(len(metrics)):\n",
    "    plt.text(i - width/2, baseline[i] + 0.01, f\"{baseline[i]:.2f}\", ha='center', va='bottom', fontsize=11)\n",
    "    plt.text(i + width/2, tuned[i] + 0.01, f\"{tuned[i]:.2f}\", ha='center', va='bottom', fontsize=11)\n",
    "\n",
    "plt.tight_layout()\n",
    "plt.show()\n"
   ]
  },
  {
   "cell_type": "code",
   "execution_count": null,
   "id": "b6436092-7bcd-4101-9137-16b32bfb57dc",
   "metadata": {},
   "outputs": [],
   "source": []
  },
  {
   "cell_type": "markdown",
   "id": "4afa11ba-4017-4dc9-b5b0-12a78a6add13",
   "metadata": {},
   "source": [
    "### New results based on the model predictions"
   ]
  },
  {
   "cell_type": "code",
   "execution_count": null,
   "id": "90610985-5ba0-40ff-a694-6c4bb8294e27",
   "metadata": {},
   "outputs": [],
   "source": []
  },
  {
   "cell_type": "code",
   "execution_count": null,
   "id": "6b1074f7-e522-4c64-8095-df39247bafe6",
   "metadata": {},
   "outputs": [],
   "source": []
  },
  {
   "cell_type": "code",
   "execution_count": null,
   "id": "feed5840-e4ac-421c-a3c5-ec0a0897b6a4",
   "metadata": {},
   "outputs": [],
   "source": []
  },
  {
   "cell_type": "code",
   "execution_count": null,
   "id": "89a66783-2e5c-4224-aeb0-78de24e39801",
   "metadata": {},
   "outputs": [],
   "source": []
  },
  {
   "cell_type": "code",
   "execution_count": null,
   "id": "f18ac3cf-1b1a-47e1-a78c-a0c5116cb682",
   "metadata": {},
   "outputs": [],
   "source": []
  },
  {
   "cell_type": "code",
   "execution_count": null,
   "id": "514d0101-4cf1-4c00-83a7-6dd6d54b4eac",
   "metadata": {},
   "outputs": [],
   "source": [
    "df.to_csv('file_0507.csv', index=False)"
   ]
  },
  {
   "cell_type": "code",
   "execution_count": null,
   "id": "e1a1e820-26a8-4ae7-a390-a981499f6620",
   "metadata": {},
   "outputs": [],
   "source": []
  },
  {
   "cell_type": "code",
   "execution_count": null,
   "id": "06497581-88b6-4e09-a351-4d21f7d5cc78",
   "metadata": {},
   "outputs": [],
   "source": []
  },
  {
   "cell_type": "code",
   "execution_count": null,
   "id": "59403318-f62e-4f9e-9bd6-22ffe89b0cf5",
   "metadata": {},
   "outputs": [],
   "source": []
  }
 ],
 "metadata": {
  "kernelspec": {
   "display_name": "Python [conda env:base] *",
   "language": "python",
   "name": "conda-base-py"
  },
  "language_info": {
   "codemirror_mode": {
    "name": "ipython",
    "version": 3
   },
   "file_extension": ".py",
   "mimetype": "text/x-python",
   "name": "python",
   "nbconvert_exporter": "python",
   "pygments_lexer": "ipython3",
   "version": "3.12.2"
  }
 },
 "nbformat": 4,
 "nbformat_minor": 5
}
